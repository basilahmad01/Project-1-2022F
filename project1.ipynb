{
 "cells": [
  {
   "cell_type": "markdown",
   "id": "6144a167",
   "metadata": {},
   "source": [
    "# Project 1: Assembling Genes"
   ]
  },
  {
   "cell_type": "markdown",
   "id": "eb234718",
   "metadata": {},
   "source": [
    "   <div class=\"alert alert-block alert-danger\">\n",
    "    <center>Due: <b>Monday, September 5, 8:59pm</b>.</center> \n",
    "   </div>\n",
    "   \n",
    "   <div class=\"alert alert-block alert-warning\">\n",
    "   <center>\n",
    "       <b>Collaboration and Resource Policy</b>\n",
    "    </center>\n",
    "    \n",
    "For this assignment, you are encouraged to work with one other person satisfying the constraints from Class 2. \n",
    "You are permitted (actually _encouraged_) to discuss these problems with anyone you want, including other students in the class. If you do discuss the specific questions in the assignment with anyone other than your assignment partner and the course staff, though, you should list them in the _External resources used_ section below.\n",
    "    \n",
    "You are welcome to use any resources you want for this assignment, other than ones that would defeat the purpose of the assignment. This means you should not look at answers or code from previous semesters of this course, or from any other students in the class (other than your collaboration with your partner), and if you find code that implements the problem you are being asked to do for the assignment, you should not use that code. You should document all external resource you use that are not part of the course materials in the _External resources used_ section below.\n",
    "    </div>"
   ]
  },
  {
   "cell_type": "markdown",
   "id": "f16314b1",
   "metadata": {},
   "source": [
    "**Team submitting this assignment:**  \n",
    "<div class=\"alert alert-success\">\n",
    "    <b><em>list each member of your team here, including both your name and UVA computing id</em></b>\n",
    "\n",
    "Team Members (Names):  Syed Ahmad\n",
    "\n",
    "Team Member UVA Computing IDs:sba5k\n",
    "\n",
    "</div>\n",
    "\n",
    "**External resources used:** \n",
    "<div class=\"alert alert-success\">\n",
    "<em>It is not necessary to list the course materials, but if you used any other resources, including discussing problems with students not on your team, list them here.</em>\n",
    "    \n",
    "External Resources Used:\n",
    "\n",
    "</div>"
   ]
  },
  {
   "cell_type": "markdown",
   "id": "58f85efb",
   "metadata": {},
   "source": [
    "In this project, we will explore genome assembly—the process of determining the order of nucleotides in DNA from fragmented reads. As you might have studied in the reading assignments, genome assembly can get quite complicated, as problems such as full sequence coverage, finding a good length for reads (the $k$ in $k$-mer), and sequencing errors present challenges for sequencing analysis and accuracy. You can assume perfect coverage for all parts of the assignment and no read errors for the first two questions.\n",
    "\n",
    "\n",
    "<b>Submission</b>: Please submit the code you wrote to generate your answers for all parts using this form: <a href=\"https://forms.gle/rNTXfYojTLEQ8idg6\"><em>https://forms.gle/rNTXfYojTLEQ8idg6</em></a>. Your answers should be in the Jupyter Notebook, along with your code. Before submission, you should make a copy of your notebook file with the name <i>uvaid1\\_uvaid2.ipynb</i> (where <i>uvaidn</i> is each teammates UVA id) so the submitted file identifies you. You and your partner should submit a single file once together. Submission is due 8:59 pm (EST) on Monday, September 5."
   ]
  },
  {
   "cell_type": "markdown",
   "id": "4822363e",
   "metadata": {},
   "source": [
    "## Install basic required packages."
   ]
  },
  {
   "cell_type": "markdown",
   "id": "7e31001f",
   "metadata": {},
   "source": [
    "- Install basic required packages, should be run only once. You may need to restart the kernel after this stage.\n",
    "- Make sure you have [graphviz](https://graphviz.org/download/) installed on your system.\n",
    "- The second cell adds Graphviz to your path, you may have to change based on where the install folder is.\n",
    "\n",
    "<b>NOTE: We provide utils.py, which may contain helpful functions for you to use, as well as gvmagic.py, which is a deprecated package to use graphviz within the notebook</b>"
   ]
  },
  {
   "cell_type": "code",
   "execution_count": 5,
   "id": "3cc94990",
   "metadata": {},
   "outputs": [
    {
     "name": "stdout",
     "output_type": "stream",
     "text": [
      "Requirement already satisfied: numpy in c:\\users\\basil\\proj1\\project-1-2022f\\venv\\lib\\site-packages (from -r requirements.txt (line 1)) (1.23.2)Note: you may need to restart the kernel to use updated packages.\n",
      "\n",
      "Requirement already satisfied: matplotlib in c:\\users\\basil\\proj1\\project-1-2022f\\venv\\lib\\site-packages (from -r requirements.txt (line 2)) (3.5.3)\n",
      "Requirement already satisfied: pydot in c:\\users\\basil\\proj1\\project-1-2022f\\venv\\lib\\site-packages (from -r requirements.txt (line 3)) (1.4.2)\n",
      "Requirement already satisfied: graphviz in c:\\users\\basil\\proj1\\project-1-2022f\\venv\\lib\\site-packages (from -r requirements.txt (line 4)) (0.20.1)\n",
      "Requirement already satisfied: kiwisolver>=1.0.1 in c:\\users\\basil\\proj1\\project-1-2022f\\venv\\lib\\site-packages (from matplotlib->-r requirements.txt (line 2)) (1.4.4)\n",
      "Requirement already satisfied: pyparsing>=2.2.1 in c:\\users\\basil\\proj1\\project-1-2022f\\venv\\lib\\site-packages (from matplotlib->-r requirements.txt (line 2)) (3.0.9)\n",
      "Requirement already satisfied: cycler>=0.10 in c:\\users\\basil\\proj1\\project-1-2022f\\venv\\lib\\site-packages (from matplotlib->-r requirements.txt (line 2)) (0.11.0)\n",
      "Requirement already satisfied: pillow>=6.2.0 in c:\\users\\basil\\proj1\\project-1-2022f\\venv\\lib\\site-packages (from matplotlib->-r requirements.txt (line 2)) (9.2.0)\n",
      "Requirement already satisfied: fonttools>=4.22.0 in c:\\users\\basil\\proj1\\project-1-2022f\\venv\\lib\\site-packages (from matplotlib->-r requirements.txt (line 2)) (4.37.1)\n",
      "Requirement already satisfied: python-dateutil>=2.7 in c:\\users\\basil\\proj1\\project-1-2022f\\venv\\lib\\site-packages (from matplotlib->-r requirements.txt (line 2)) (2.8.2)\n",
      "Requirement already satisfied: packaging>=20.0 in c:\\users\\basil\\proj1\\project-1-2022f\\venv\\lib\\site-packages (from matplotlib->-r requirements.txt (line 2)) (21.3)\n",
      "Requirement already satisfied: six>=1.5 in c:\\users\\basil\\proj1\\project-1-2022f\\venv\\lib\\site-packages (from python-dateutil>=2.7->matplotlib->-r requirements.txt (line 2)) (1.16.0)\n"
     ]
    }
   ],
   "source": [
    "%pip install -r requirements.txt"
   ]
  },
  {
   "cell_type": "code",
   "execution_count": 8,
   "id": "69e00fe0",
   "metadata": {},
   "outputs": [],
   "source": [
    "import os\n",
    "os.environ[\"PATH\"] += os.pathsep + 'C:/Program Files/Graphviz/bin'"
   ]
  },
  {
   "cell_type": "markdown",
   "id": "9efd1192",
   "metadata": {},
   "source": [
    "## Genome Assembly\n",
    "\n",
    "For this part, you're given reads generated while trying to sequence the DNA of a TeleTubby (some unknown organism) with a \\textit{very} small genetic code. By answering the following questions, you will learn how to assemble the original genome sequence from sequence reads.\n",
    "\n",
    "Sequencing data is often stored in FASTQ file format. In TeleTubby.fastq, you will find the data organized in a particular order that repeats every four lines. The first line contains the metadata that encodes the name of the read, the experiment type, the kind of sequencing machine used, etc. The second line is the sequence of bases. The third line functions as a placeholder line. The fourth line is a sequence of base qualities that encode the qualities for the corresponding bases in the sequence line. We will only work with the sequence and quality score lines in this question."
   ]
  },
  {
   "cell_type": "code",
   "execution_count": 10,
   "id": "2e490805",
   "metadata": {},
   "outputs": [],
   "source": [
    "import collections\n",
    "import matplotlib.pyplot as plt\n",
    "import numpy as np\n",
    "import utils\n",
    "from tqdm import tqdm"
   ]
  },
  {
   "cell_type": "markdown",
   "id": "80a7c012",
   "metadata": {},
   "source": [
    "#### Question 1.1.1 GC-content\n",
    "\n",
    "The GC-content (or the ratio of G and C nucleotides) is related to the melting temperature of the DNA double helix. Use the following equation to calculate the melting temperature of DNA for TeleTubby $t_m$ in Celsius:\n",
    "\n",
    "\\begin{equation*}\n",
    "t_m = 64.9+0.41(\\%GC)-\\frac{500}{\\text{length of sequence}}\n",
    "\\end{equation*}\n",
    "\n",
    "As a reference, the human genome is known to have between 35%-60% GC-content. "
   ]
  },
  {
   "cell_type": "code",
   "execution_count": 47,
   "id": "ffecc7f0",
   "metadata": {},
   "outputs": [
    {
     "name": "stdout",
     "output_type": "stream",
     "text": [
      "%GC content: 47.95221843003413\n",
      "Temperature: 84.34709897610922\n"
     ]
    }
   ],
   "source": [
    "# Read sequence reads (error-free) from file\n",
    "sequence_reads, qualities = utils.read_fastq('TeleTubby.fastq')\n",
    "store = collections.Counter([x for i in sequence_reads for x in i])\n",
    "# Calculate %GC content\n",
    "gc = ((store['C']+store['G'])/(store['C']+store['G']+store['A']+store['T']))*100\n",
    "print(\"%GC content:\",gc)\n",
    "# Print out temperature in Celsius\n",
    "total_len = 0\n",
    "for i in sequence_reads:\n",
    "    total_len += len(i)\n",
    "# print(total_len)\n",
    "t = 64.9 + (0.41*gc)-(500/(total_len))\n",
    "print(\"Temperature:\",t)"
   ]
  },
  {
   "cell_type": "markdown",
   "id": "560639be",
   "metadata": {},
   "source": [
    "#### Question 1.1.2 Interpreting quality scores"
   ]
  },
  {
   "cell_type": "markdown",
   "id": "4ec47f6c",
   "metadata": {},
   "source": [
    "Phred33 quality scores are represented as the character with an ASCII code equal to its value + 33 (to make them easy to print alongside genome sequences). List the top 5 most frequent scores in ASCII symbol as well as their Phredd33 scores in TeleTubby.fastq. You can refer to the [official Illumina website](https://support.illumina.com/help/BaseSpace_OLH_009008/Content/Source/Informatics/BS/QualityScoreEncoding_swBS.htm) to reference the scoring encoding.\n",
    "\n",
    "What is the average Phred33 score in TeleTubby.fastq?"
   ]
  },
  {
   "cell_type": "code",
   "execution_count": 45,
   "id": "17bc1ea3",
   "metadata": {},
   "outputs": [
    {
     "name": "stdout",
     "output_type": "stream",
     "text": [
      "Average Phred33 score in TeleTubby.fastq: 34.476535836177476\n"
     ]
    }
   ],
   "source": [
    "store_quality = collections.Counter([x for i in qualities for x in i])\n",
    "# print(store_quality)\n",
    "count = 0\n",
    "score = 0\n",
    "for letter in store_quality.keys():\n",
    "    q = ord(letter) - 33\n",
    "    score += q*store_quality[letter]\n",
    "    count +=(1*store_quality[letter])\n",
    "print(\"Average Phred33 score in TeleTubby.fastq:\", score/count)\n",
    "# Calculate and print average Phred33 score"
   ]
  },
  {
   "cell_type": "markdown",
   "id": "e4794c96",
   "metadata": {},
   "source": [
    "#### Question 1.1.3 Frequency analysis\n",
    "\n",
    "Looking at repetitions in the sequence can be helpful in estimating the \"redudancy\" in the organisms. Humand and other evolved animals have a lot of redundancy, while smaller organisms like bacteria have highly packed genomes. One heuristic to estimate this before actually performing the assembly could be looking at how often certain $k$-mers are repeated.\n",
    "\n",
    "<b>Print out the 3 most frequent k-mers with their frequencies</b>"
   ]
  },
  {
   "cell_type": "code",
   "execution_count": 54,
   "id": "29081fc1",
   "metadata": {},
   "outputs": [
    {
     "name": "stdout",
     "output_type": "stream",
     "text": [
      "OrderedDict([('TTACAAGA', 1), ('TCATGCAT', 1), ('AGGCGCTA', 1), ('CGGACTCT', 1), ('TTTCATGA', 1), ('GCGCTATC', 1), ('CGACTGTC', 1), ('ATCGCAAC', 1), ('TCGCTGCC', 1), ('CGCAAACC', 1), ('CAAGAATT', 1), ('GTCGGACT', 1), ('CCGCCCTT', 1), ('CGAGAGAT', 1), ('GAGGCGCT', 1), ('TTGTGCTA', 1), ('GGGAGTAT', 1), ('GTTAGCAG', 1), ('TGTCGGAC', 1), ('CCCGGAGG', 1), ('GCACATCC', 1), ('AGGGGTTT', 1), ('CGCTATCG', 2), ('TAACAACT', 1), ('TGGTGCCG', 1), ('GTGCTATC', 1), ('CGACATAT', 1), ('TTCATGAG', 1), ('AGTGGGAG', 1), ('TACGCCAA', 1), ('TTGTTTCT', 1), ('GATGCAAT', 1), ('CGCAGGAT', 1), ('CTAAGAGA', 1), ('TAGCAATG', 1), ('ATAGCAAT', 1), ('GGAGTATG', 1), ('CCAAACAC', 1), ('GCTGCCCG', 1), ('AAATAGCA', 1), ('GCAGGATA', 1), ('TATCGACA', 1), ('CTTTACAA', 1), ('TAAGAGAG', 1), ('TCTTTCAT', 1), ('CAAACCGA', 1), ('ATGGTGCA', 1), ('TGGGAGTA', 1), ('TCTTTACA', 1), ('TTACAGGA', 1), ('TGTTTCTC', 1), ('GATTTGTG', 1), ('ACTTATGT', 1), ('GTTGTTTC', 1), ('TGCCCGGA', 1), ('CTGCCCGG', 1), ('GGAGGCGC', 1), ('AAACACTC', 1), ('GCTATCGC', 3), ('GGGTTTTG', 1), ('TGCCCGCC', 1), ('TCATGGTA', 1), ('TATCGCTG', 1), ('TGGTATCG', 1), ('GACATATC', 1), ('ATAACAAC', 1), ('GTATCGAC', 1), ('AGATTTGT', 1), ('CCGACTGT', 1), ('CGCTGCCC', 1), ('ACCGACTG', 1), ('GCAACCTA', 1), ('CGCAACCT', 1), ('ATGAGCAA', 1), ('GATAACAA', 1), ('TGTACTAC', 1), ('CATCCGCT', 1), ('TGCGCAGG', 1), ('TACAGGAG', 1), ('CTTATGTA', 1), ('TACTACAT', 1), ('ATCGCTAC', 1), ('CTACTGGT', 1), ('TACAAGAA', 1), ('GTTTCTTC', 1), ('GCCCTTCG', 1), ('AGCAAAAA', 1), ('TATGTACT', 1), ('ATCGCAAA', 1), ('CAAACACT', 1), ('CCTTCGAT', 1), ('GGTTTTGT', 1), ('GAATTACA', 1), ('TATCGCAA', 2), ('CTACATGT', 1), ('TATCGCTA', 1), ('CGCCAAAT', 1), ('TCGCTGTC', 1), ('ATGTACTA', 1), ('ACAAGAAT', 1), ('CTATCGCA', 2), ('GTACTACA', 1), ('GTGCACAT', 1), ('TGTCATGG', 1), ('GAGAGATT', 1), ('CTTTCATG', 1), ('ACTACATG', 1), ('TCGTGCCC', 1), ('CAGGAGCC', 1), ('GTGCCCGC', 1), ('ACATCCGC', 1), ('TTCGATGC', 1), ('ATCGCTGC', 1), ('GCAATGCG', 1), ('AGCCAAAC', 1), ('CATGTTGT', 1), ('GCTACTGG', 1), ('TCGAGAGA', 1), ('AAGAGAGA', 1), ('TCATGAGC', 1), ('GTGTTAGC', 1), ('CAATGTCG', 1), ('GAGATTTG', 1), ('CATGGTAT', 1), ('GAGAAGGG', 1), ('AATGTCGA', 1), ('GGTGCCGC', 1), ('CTGTCGGA', 1), ('TAGCAGTT', 1), ('CAACTTAT', 1), ('ACTGGTGC', 1), ('CCGGAGGC', 1), ('CACTCGCT', 1), ('CTCTTTCA', 1), ('TTCATGCA', 1), ('ACATATCG', 1), ('GCGCAGGA', 1), ('TCTCGTGC', 1), ('TTCTTCAT', 1), ('AAGAATTA', 1), ('ATGTTGTT', 1), ('GTTTCTCG', 1), ('CAGTTTCT', 1), ('ACAGGAGC', 1), ('GGTATCGA', 1), ('GCCAAATA', 1), ('GAGAGAAG', 1), ('TGTTAGCA', 1), ('TGCATCTC', 1), ('GGAGCCAA', 1), ('GAAGGGGT', 1), ('TTTGTGCT', 1), ('CGCTGTCA', 1), ('GGACTCTT', 1), ('TTTGTGTT', 1), ('CTTCGATG', 1), ('TGCCGCCC', 1), ('CCTAAGAG', 1), ('ATGTCGAG', 1), ('GTGCCGCC', 1), ('CGGAGGCG', 1), ('GACTCTTT', 1), ('AACAACTT', 1), ('AAAAAAGT', 1), ('TATGGTGC', 1), ('GCCGCCCT', 1), ('GCCCGGAG', 1), ('AACCGACT', 1), ('TACTGGTG', 1), ('ACAACTTA', 1), ('CAATGCGC', 1), ('GGCGCTAT', 1), ('GACTGTCG', 1), ('ATCTCTTT', 1), ('GCCAAACA', 1), ('AGCAATGC', 1), ('CAACCTAA', 1), ('TGCACATC', 1), ('ATCCGCTA', 1), ('AAGTGGGA', 1), ('AGAGAAGG', 1), ('CCCTTCGA', 1), ('GTTTTGTG', 1), ('GCAGTTTC', 1), ('AATAGCAA', 1), ('TCGCAAAC', 1), ('CGCCAATG', 1), ('CATGAGCA', 1), ('GCATCTCT', 1), ('CTGTCATG', 1), ('GGATAACA', 1), ('CGATGCAA', 1), ('GCCAATGT', 1), ('GAGCCAAA', 1), ('AGTTTCTT', 1), ('CGCTACTG', 1), ('TGCTATCG', 1), ('TACATGTT', 1), ('AGAAGGGG', 1), ('GCTGTCAT', 1), ('CTCGCTGT', 1), ('CCAATGTC', 1), ('CAAATAGC', 1), ('ACCTAAGA', 1), ('GCAATGTT', 1), ('AAAAAAAG', 1), ('ATTACAGG', 1), ('TCTCTTTA', 1), ('CAGGATAA', 1), ('TGAGCAAA', 1), ('CGTGCCCG', 1), ('ACATGTTG', 1), ('AGCAGTTT', 1), ('AGGAGCCA', 1), ('ATGCATCT', 1), ('AAACCGAC', 1), ('AATGCGCA', 1), ('ACTGTCGG', 1), ('AGAATTAC', 1), ('ATATCGCT', 1), ('CCGCCAAT', 1), ('CCCGCCAA', 1), ('GAGTATGG', 1), ('AGGATAAC', 1), ('AACTTATG', 1), ('TTATGTAC', 1), ('CATGCATC', 1), ('CACATCCG', 1), ('CATCTCTT', 1), ('TTTTGTGT', 1), ('TTTCTCGT', 1), ('CAAAAAAA', 1), ('CTATCGCT', 1), ('CATATCGC', 1), ('TTAGCAGT', 1), ('TGGTGCAC', 1), ('ATCGACAT', 1), ('AACCTAAG', 1), ('TTTACAAG', 1), ('TGTCGAGA', 1), ('ATGCGCAG', 1), ('TCCGCTAT', 1), ('TGTTGTTT', 1), ('TGTGTTAG', 1), ('CTCGTGCC', 1), ('TGCAATGT', 1), ('GGTGCACA', 1), ('CTTCATGC', 1), ('CTCTTTAC', 1), ('ATTTGTGC', 1), ('TCGACATA', 1), ('CGCCCTTC', 1), ('AACACTCG', 1), ('TCGCAACC', 1), ('GTATGGTG', 1), ('AAAAGTGG', 1), ('GTGGGAGT', 1), ('ACTCTTTC', 1), ('ACGCCAAA', 1), ('ACACTCGC', 1), ('AGTATGGT', 1), ('CTGGTGCC', 1), ('GGGGTTTT', 1), ('AAAAAGTG', 1), ('GTCGAGAG', 1), ('ACTCGCTG', 1), ('AAAGTGGG', 1), ('CCGCTATC', 1), ('TTCTCGTG', 1), ('ATGGTATC', 1), ('TCGCTACT', 1), ('GAGCAAAA', 1), ('TCTTCATG', 1), ('TGTGCTAT', 1), ('AATTACAG', 1), ('TCGATGCA', 1), ('ATGCAATG', 1), ('TTTCTTCA', 1), ('TTGTGTTA', 1), ('GCAAAAAA', 1), ('AGAGAGAA', 1), ('TCGGACTC', 1), ('AGAGATTT', 1), ('GCCCGCCA', 1), ('GTCATGGT', 1), ('AAGGGGTT', 1), ('GCAAACCG', 1), ('CCAAATAG', 1)])\n"
     ]
    }
   ],
   "source": [
    "k_mers = collections.Counter([i for i in sequence_reads])\n",
    "k_mers2 = collections.OrderedDict(k_mers)\n",
    "print(k_mers2)\n",
    "# print(k_mers.keys()[0],k_mers.keys()[1],k_mers.keys()[2],)\n",
    "# for key, val in k_mers.items():\n",
    "# print(list(k))\n",
    "# print(list(k_mers.keys())[0], k_mers[list(k_mers.keys())[0]])\n",
    "# print(list(k_mers.keys())[1], k_mers[list(k_mers.keys())[1]])\n",
    "# print(list(k_mers.keys())[2], k_mers[list(k_mers.keys())[2]])\n",
    "\n",
    "    \n",
    "\n",
    "# Find and print out the three most repeated k-mers and their frequencies"
   ]
  },
  {
   "cell_type": "markdown",
   "id": "45831342",
   "metadata": {},
   "source": [
    "### Question 1.2. Greedy approach"
   ]
  },
  {
   "cell_type": "markdown",
   "id": "7f9065e0",
   "metadata": {},
   "source": [
    "One of the approaches to assemble the genome from the given reads is a greedy algorithm. Have a look at the greedy algorithm described on [Wikipedia](https://en.wikipedia.org/wiki/Sequence_assembly#Greedy_algorithm) and answer the following."
   ]
  },
  {
   "cell_type": "markdown",
   "id": "d4f23678",
   "metadata": {},
   "source": [
    "#### Question 1.2.1 What would the runtime be of this algorithm, given $n$ $k$-mer reads?"
   ]
  },
  {
   "cell_type": "markdown",
   "id": "064b091a",
   "metadata": {},
   "source": [
    "<i>Answer</i>:"
   ]
  },
  {
   "cell_type": "markdown",
   "id": "f64887cc",
   "metadata": {},
   "source": [
    "#### Question 1.2.2 Would this algorithm always yield a unique solution?"
   ]
  },
  {
   "cell_type": "markdown",
   "id": "f8cb369c",
   "metadata": {},
   "source": [
    "<i>Answer</i>:"
   ]
  },
  {
   "cell_type": "markdown",
   "id": "11d929e0",
   "metadata": {},
   "source": [
    "#### Question 1.2.3 Would this algorithm always yield the <i>right</i> solution?"
   ]
  },
  {
   "cell_type": "markdown",
   "id": "caa14b4d",
   "metadata": {},
   "source": [
    "<i>Answer</i>:"
   ]
  },
  {
   "cell_type": "markdown",
   "id": "80afb0ba",
   "metadata": {},
   "source": [
    "### Question 1.3 Graph-based approaches"
   ]
  },
  {
   "cell_type": "markdown",
   "id": "c92b0585",
   "metadata": {},
   "source": [
    "Graphs for genome assembly can be constructed in two ways:\n",
    "\n",
    "- de Bruijn graph: Processing $k-$mers as nodes, with $(k-1)-$mers as edges, and\n",
    "- Overlap graph: Processing $k-$mers as edges, with $(k-1)-$mers as nodes.\n",
    "\n",
    "de Bruijn graphs can be processed to find Euler paths, while Overlap graphs can be processed to find Hamiltonian paths. Both of these are valid ways to reconstruct the original genome.\n",
    "\n",
    "<b>Use one of these two techniques to reconstruct the sequence, and print out your reconstructed sequence. Which method did you pick out of the two, and why? (hint: imagine what would happen when we have millions of reads). Use the k-mers provided in TeleTubby.fastq</b>.\n",
    "\n",
    "We provide some skeleton code that you may use, but you may also come up with your own solution."
   ]
  },
  {
   "cell_type": "code",
   "execution_count": null,
   "id": "ecd09f0a",
   "metadata": {},
   "outputs": [],
   "source": [
    "# Read reads into graph\n",
    "\n",
    "def build_graph(k_mers):\n",
    "    edges = []\n",
    "    nodes = set()\n",
    "    # Your code here\n",
    "    return nodes, edges\n",
    "\n",
    "nodes, edges = build_graph(sequence_reads)"
   ]
  },
  {
   "cell_type": "code",
   "execution_count": null,
   "id": "673fa392",
   "metadata": {},
   "outputs": [],
   "source": [
    "# Implement assembly algorithm"
   ]
  },
  {
   "cell_type": "code",
   "execution_count": null,
   "id": "bb2b4eaf",
   "metadata": {},
   "outputs": [],
   "source": [
    "# Print assembled sequence"
   ]
  },
  {
   "cell_type": "code",
   "execution_count": null,
   "id": "3aed4102",
   "metadata": {},
   "outputs": [],
   "source": [
    "# Needed to properly visualize graphs\n",
    "%load_ext gvmagic"
   ]
  },
  {
   "cell_type": "code",
   "execution_count": null,
   "id": "90922efd",
   "metadata": {},
   "outputs": [],
   "source": [
    "# Helper function to visualize de Bruijn graphs\n",
    "%dotstr utils.viz_debruijn(nodes_bruijn, edges_bruijn)"
   ]
  },
  {
   "cell_type": "code",
   "execution_count": null,
   "id": "d17adf35",
   "metadata": {},
   "outputs": [],
   "source": [
    "# Main assembly algorithm\n",
    "\n",
    "def assemble_sequence(nodes, edges):\n",
    "    assembled_sequence = \"\"\n",
    "    # Your code here\n",
    "    return assembled_sequence"
   ]
  },
  {
   "cell_type": "code",
   "execution_count": null,
   "id": "3a28b8f3",
   "metadata": {},
   "outputs": [],
   "source": [
    "# Output assembled sequence\n",
    "\n",
    "assmebled_seq = assemble_sequence(nodes, edges)"
   ]
  },
  {
   "cell_type": "markdown",
   "id": "1a19b6bb",
   "metadata": {},
   "source": [
    "## Question 2 - Sequencing SARS-CoV-2 virus"
   ]
  },
  {
   "cell_type": "markdown",
   "id": "d1e34a16",
   "metadata": {},
   "source": [
    "Let's move on from TeleTubbies to real-world organisms. Let's start small- with a variant of the SARS-CoV-2 virus. You're given reads from <i>actual</i> genome sequencing runs in the SARS-CoV2.fastq file provided.\n",
    "\n",
    "Repeat Question 1.3 on this data. You can re-use your implementation and simply run it on the new data. Print out your reconstructed sequence to a file \"output.txt\". For this part, we will still assume that all the reads are error-free. Set $k=25$."
   ]
  },
  {
   "cell_type": "code",
   "execution_count": null,
   "id": "3b0467a2",
   "metadata": {},
   "outputs": [],
   "source": [
    "# Read sequence reads\n",
    "sequence_reads_covid, qualities_covid = utils.read_fastq('SARS-CoV2.fastq')"
   ]
  },
  {
   "cell_type": "code",
   "execution_count": null,
   "id": "499f6e13",
   "metadata": {},
   "outputs": [],
   "source": [
    "# Read reads into graph\n",
    "nodes_covid, edges_covid = build_graph(sequence_reads_covid)"
   ]
  },
  {
   "cell_type": "code",
   "execution_count": null,
   "id": "8d566d32",
   "metadata": {},
   "outputs": [],
   "source": [
    "# Call main assembly algorithm\n",
    "assmebled_covid_seq = assemble_sequence(nodes_covid, edges_covid)"
   ]
  },
  {
   "cell_type": "code",
   "execution_count": null,
   "id": "2f90f355",
   "metadata": {},
   "outputs": [],
   "source": [
    "# Write assembled sequence to file\n",
    "\n",
    "assmebled_seq = \"\" # Use your assembled genome\n",
    "with open(\"covid_overlap.txt\", \"w\") as f:\n",
    "    f.write(assmebled_seq)"
   ]
  },
  {
   "cell_type": "markdown",
   "id": "ebdc58b9",
   "metadata": {},
   "source": [
    "# Question 3- Error-Aware Assembly (Extra Credit)"
   ]
  },
  {
   "cell_type": "markdown",
   "id": "d9412818",
   "metadata": {},
   "source": [
    "In the parts above, we assumed error-free reads while assembling $k$-mers. As much as we'd like that, actual reads can (and do) have errors, captured by their Phred scores. For this question, you're given raw, actual reads from sequencing runs (download reads here: https://sra-pub-sars-cov2.s3.amazonaws.com/sra-src/SRR11528307/ABS2-LN-R1_cleaned_paired.fastq.gz).  Given these reads and their Phred33 scores, can you assemble the genome?\n",
    "\n",
    "<b>Print out your assembled sequence, along with a brief explanation of how your algorithm works</b>\n",
    "\n",
    "This is an open-ended question. You are free to use any approach to deal with the issue. Make sure you provide your code, along with any assumptions you may have, in the cells below."
   ]
  },
  {
   "cell_type": "code",
   "execution_count": null,
   "id": "3d1856dd",
   "metadata": {},
   "outputs": [],
   "source": []
  },
  {
   "cell_type": "code",
   "execution_count": null,
   "id": "45b79a5d",
   "metadata": {},
   "outputs": [],
   "source": []
  }
 ],
 "metadata": {
  "kernelspec": {
   "display_name": "Python 3 (ipykernel)",
   "language": "python",
   "name": "python3"
  },
  "language_info": {
   "codemirror_mode": {
    "name": "ipython",
    "version": 3
   },
   "file_extension": ".py",
   "mimetype": "text/x-python",
   "name": "python",
   "nbconvert_exporter": "python",
   "pygments_lexer": "ipython3",
   "version": "3.9.13"
  }
 },
 "nbformat": 4,
 "nbformat_minor": 5
}
