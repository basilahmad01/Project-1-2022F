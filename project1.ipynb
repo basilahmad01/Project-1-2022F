{
 "cells": [
  {
   "cell_type": "markdown",
   "id": "6144a167",
   "metadata": {},
   "source": [
    "# Project 1: Assembling Genes"
   ]
  },
  {
   "cell_type": "markdown",
   "id": "eb234718",
   "metadata": {},
   "source": [
    "   <div class=\"alert alert-block alert-danger\">\n",
    "    <center>Due: <b>Monday, September 5, 8:59pm</b>.</center> \n",
    "   </div>\n",
    "   \n",
    "   <div class=\"alert alert-block alert-warning\">\n",
    "   <center>\n",
    "       <b>Collaboration and Resource Policy</b>\n",
    "    </center>\n",
    "    \n",
    "For this assignment, you are encouraged to work with one other person satisfying the constraints from Class 2. \n",
    "You are permitted (actually _encouraged_) to discuss these problems with anyone you want, including other students in the class. If you do discuss the specific questions in the assignment with anyone other than your assignment partner and the course staff, though, you should list them in the _External resources used_ section below.\n",
    "    \n",
    "You are welcome to use any resources you want for this assignment, other than ones that would defeat the purpose of the assignment. This means you should not look at answers or code from previous semesters of this course, or from any other students in the class (other than your collaboration with your partner), and if you find code that implements the problem you are being asked to do for the assignment, you should not use that code. You should document all external resource you use that are not part of the course materials in the _External resources used_ section below.\n",
    "    </div>"
   ]
  },
  {
   "cell_type": "markdown",
   "id": "f16314b1",
   "metadata": {},
   "source": [
    "**Team submitting this assignment:**  \n",
    "<div class=\"alert alert-success\">\n",
    "    <b><em>list each member of your team here, including both your name and UVA computing id</em></b>\n",
    "\n",
    "Team Members (Names):  Syed Ahmad\n",
    "\n",
    "Team Member UVA Computing IDs:sba5k\n",
    "\n",
    "</div>\n",
    "\n",
    "**External resources used:** \n",
    "<div class=\"alert alert-success\">\n",
    "<em>It is not necessary to list the course materials, but if you used any other resources, including discussing problems with students not on your team, list them here.</em>\n",
    "    \n",
    "External Resources Used:\n",
    "\n",
    "</div>"
   ]
  },
  {
   "cell_type": "markdown",
   "id": "58f85efb",
   "metadata": {},
   "source": [
    "In this project, we will explore genome assembly—the process of determining the order of nucleotides in DNA from fragmented reads. As you might have studied in the reading assignments, genome assembly can get quite complicated, as problems such as full sequence coverage, finding a good length for reads (the $k$ in $k$-mer), and sequencing errors present challenges for sequencing analysis and accuracy. You can assume perfect coverage for all parts of the assignment and no read errors for the first two questions.\n",
    "\n",
    "\n",
    "<b>Submission</b>: Please submit the code you wrote to generate your answers for all parts using this form: <a href=\"https://forms.gle/rNTXfYojTLEQ8idg6\"><em>https://forms.gle/rNTXfYojTLEQ8idg6</em></a>. Your answers should be in the Jupyter Notebook, along with your code. Before submission, you should make a copy of your notebook file with the name <i>uvaid1\\_uvaid2.ipynb</i> (where <i>uvaidn</i> is each teammates UVA id) so the submitted file identifies you. You and your partner should submit a single file once together. Submission is due 8:59 pm (EST) on Monday, September 5."
   ]
  },
  {
   "cell_type": "markdown",
   "id": "4822363e",
   "metadata": {},
   "source": [
    "## Install basic required packages."
   ]
  },
  {
   "cell_type": "markdown",
   "id": "7e31001f",
   "metadata": {},
   "source": [
    "- Install basic required packages, should be run only once. You may need to restart the kernel after this stage.\n",
    "- Make sure you have [graphviz](https://graphviz.org/download/) installed on your system.\n",
    "- The second cell adds Graphviz to your path, you may have to change based on where the install folder is.\n",
    "\n",
    "<b>NOTE: We provide utils.py, which may contain helpful functions for you to use, as well as gvmagic.py, which is a deprecated package to use graphviz within the notebook</b>"
   ]
  },
  {
   "cell_type": "code",
   "execution_count": 1,
   "id": "3cc94990",
   "metadata": {},
   "outputs": [
    {
     "name": "stdout",
     "output_type": "stream",
     "text": [
      "Requirement already satisfied: numpy in c:\\users\\basil\\proj1\\project-1-2022f\\venv\\lib\\site-packages (from -r requirements.txt (line 1)) (1.23.2)Note: you may need to restart the kernel to use updated packages.\n",
      "\n",
      "Requirement already satisfied: matplotlib in c:\\users\\basil\\proj1\\project-1-2022f\\venv\\lib\\site-packages (from -r requirements.txt (line 2)) (3.5.3)\n",
      "Requirement already satisfied: pydot in c:\\users\\basil\\proj1\\project-1-2022f\\venv\\lib\\site-packages (from -r requirements.txt (line 3)) (1.4.2)\n",
      "Requirement already satisfied: graphviz in c:\\users\\basil\\proj1\\project-1-2022f\\venv\\lib\\site-packages (from -r requirements.txt (line 4)) (0.20.1)\n",
      "Requirement already satisfied: pillow>=6.2.0 in c:\\users\\basil\\proj1\\project-1-2022f\\venv\\lib\\site-packages (from matplotlib->-r requirements.txt (line 2)) (9.2.0)\n",
      "Requirement already satisfied: python-dateutil>=2.7 in c:\\users\\basil\\proj1\\project-1-2022f\\venv\\lib\\site-packages (from matplotlib->-r requirements.txt (line 2)) (2.8.2)\n",
      "Requirement already satisfied: pyparsing>=2.2.1 in c:\\users\\basil\\proj1\\project-1-2022f\\venv\\lib\\site-packages (from matplotlib->-r requirements.txt (line 2)) (3.0.9)\n",
      "Requirement already satisfied: cycler>=0.10 in c:\\users\\basil\\proj1\\project-1-2022f\\venv\\lib\\site-packages (from matplotlib->-r requirements.txt (line 2)) (0.11.0)\n",
      "Requirement already satisfied: fonttools>=4.22.0 in c:\\users\\basil\\proj1\\project-1-2022f\\venv\\lib\\site-packages (from matplotlib->-r requirements.txt (line 2)) (4.37.1)\n",
      "Requirement already satisfied: packaging>=20.0 in c:\\users\\basil\\proj1\\project-1-2022f\\venv\\lib\\site-packages (from matplotlib->-r requirements.txt (line 2)) (21.3)\n",
      "Requirement already satisfied: kiwisolver>=1.0.1 in c:\\users\\basil\\proj1\\project-1-2022f\\venv\\lib\\site-packages (from matplotlib->-r requirements.txt (line 2)) (1.4.4)\n",
      "Requirement already satisfied: six>=1.5 in c:\\users\\basil\\proj1\\project-1-2022f\\venv\\lib\\site-packages (from python-dateutil>=2.7->matplotlib->-r requirements.txt (line 2)) (1.16.0)\n"
     ]
    }
   ],
   "source": [
    "%pip install -r requirements.txt"
   ]
  },
  {
   "cell_type": "code",
   "execution_count": 2,
   "id": "69e00fe0",
   "metadata": {},
   "outputs": [],
   "source": [
    "import os\n",
    "os.environ[\"PATH\"] += os.pathsep + 'C:/Program Files/Graphviz/bin'"
   ]
  },
  {
   "cell_type": "markdown",
   "id": "9efd1192",
   "metadata": {},
   "source": [
    "## Genome Assembly\n",
    "\n",
    "For this part, you're given reads generated while trying to sequence the DNA of a TeleTubby (some unknown organism) with a \\textit{very} small genetic code. By answering the following questions, you will learn how to assemble the original genome sequence from sequence reads.\n",
    "\n",
    "Sequencing data is often stored in FASTQ file format. In TeleTubby.fastq, you will find the data organized in a particular order that repeats every four lines. The first line contains the metadata that encodes the name of the read, the experiment type, the kind of sequencing machine used, etc. The second line is the sequence of bases. The third line functions as a placeholder line. The fourth line is a sequence of base qualities that encode the qualities for the corresponding bases in the sequence line. We will only work with the sequence and quality score lines in this question."
   ]
  },
  {
   "cell_type": "code",
   "execution_count": 3,
   "id": "2e490805",
   "metadata": {},
   "outputs": [],
   "source": [
    "import collections\n",
    "import matplotlib.pyplot as plt\n",
    "import numpy as np\n",
    "import utils\n",
    "from tqdm import tqdm"
   ]
  },
  {
   "cell_type": "markdown",
   "id": "80a7c012",
   "metadata": {},
   "source": [
    "#### Question 1.1.1 GC-content\n",
    "\n",
    "The GC-content (or the ratio of G and C nucleotides) is related to the melting temperature of the DNA double helix. Use the following equation to calculate the melting temperature of DNA for TeleTubby $t_m$ in Celsius:\n",
    "\n",
    "\\begin{equation*}\n",
    "t_m = 64.9+0.41(\\%GC)-\\frac{500}{\\text{length of sequence}}\n",
    "\\end{equation*}\n",
    "\n",
    "As a reference, the human genome is known to have between 35%-60% GC-content. "
   ]
  },
  {
   "cell_type": "code",
   "execution_count": 4,
   "id": "ffecc7f0",
   "metadata": {},
   "outputs": [
    {
     "name": "stdout",
     "output_type": "stream",
     "text": [
      "%GC content: 47.95221843003413\n",
      "Temperature: 84.34709897610922\n"
     ]
    }
   ],
   "source": [
    "# Read sequence reads (error-free) from file\n",
    "sequence_reads, qualities = utils.read_fastq('TeleTubby.fastq')\n",
    "# print(sequence_reads)\n",
    "store = collections.Counter([x for i in sequence_reads for x in i])\n",
    "# Calculate %GC content\n",
    "gc = ((store['C']+store['G'])/(store['C']+store['G']+store['A']+store['T']))*100\n",
    "print(\"%GC content:\",gc)\n",
    "# Print out temperature in Celsius\n",
    "total_len = 0\n",
    "for i in sequence_reads:\n",
    "    total_len += len(i)\n",
    "# print(total_len)\n",
    "t = 64.9 + (0.41*gc)-(500/(total_len))\n",
    "print(\"Temperature:\",t)"
   ]
  },
  {
   "cell_type": "markdown",
   "id": "560639be",
   "metadata": {},
   "source": [
    "#### Question 1.1.2 Interpreting quality scores"
   ]
  },
  {
   "cell_type": "markdown",
   "id": "4ec47f6c",
   "metadata": {},
   "source": [
    "Phred33 quality scores are represented as the character with an ASCII code equal to its value + 33 (to make them easy to print alongside genome sequences). List the top 5 most frequent scores in ASCII symbol as well as their Phredd33 scores in TeleTubby.fastq. You can refer to the [official Illumina website](https://support.illumina.com/help/BaseSpace_OLH_009008/Content/Source/Informatics/BS/QualityScoreEncoding_swBS.htm) to reference the scoring encoding.\n",
    "\n",
    "What is the average Phred33 score in TeleTubby.fastq?"
   ]
  },
  {
   "cell_type": "code",
   "execution_count": 5,
   "id": "382dcff9",
   "metadata": {},
   "outputs": [
    {
     "name": "stdout",
     "output_type": "stream",
     "text": [
      "Average Phred33 score in TeleTubby.fastq: 34.476535836177476\n",
      "ASCII:FREQ\n",
      "5 : 96 Phredd33: 20\n",
      "? : 95 Phredd33: 30\n",
      "D : 95 Phredd33: 35\n",
      "K : 90 Phredd33: 42\n",
      "F : 88 Phredd33: 37\n"
     ]
    }
   ],
   "source": [
    "store_quality = collections.Counter([x for i in qualities for x in i])\n",
    "# print(store_quality)\n",
    "count = 0\n",
    "score = 0\n",
    "for letter in store_quality.keys():\n",
    "    q = ord(letter) - 33\n",
    "    score += q*store_quality[letter]\n",
    "    count +=(1*store_quality[letter])\n",
    "print(\"Average Phred33 score in TeleTubby.fastq:\", score/count)\n",
    "# Calculate and print average Phred33 score\n",
    "qual = (store_quality.most_common(5))\n",
    "print(\"ASCII:FREQ\")\n",
    "for i in qual:\n",
    "    print(i[0],\":\",i[1] , \"Phredd33:\", ord(i[0])-33,)"
   ]
  },
  {
   "cell_type": "markdown",
   "id": "e4794c96",
   "metadata": {},
   "source": [
    "#### Question 1.1.3 Frequency analysis\n",
    "\n",
    "Looking at repetitions in the sequence can be helpful in estimating the \"redudancy\" in the organisms. Humand and other evolved animals have a lot of redundancy, while smaller organisms like bacteria have highly packed genomes. One heuristic to estimate this before actually performing the assembly could be looking at how often certain $k$-mers are repeated.\n",
    "\n",
    "<b>Print out the 3 most frequent k-mers with their frequencies</b>"
   ]
  },
  {
   "cell_type": "code",
   "execution_count": 6,
   "id": "29081fc1",
   "metadata": {},
   "outputs": [
    {
     "name": "stdout",
     "output_type": "stream",
     "text": [
      "3 Most Common: [('GCTATCGC', 3), ('CGCTATCG', 2), ('TATCGCAA', 2)]\n"
     ]
    }
   ],
   "source": [
    "k_mers = collections.Counter([i for i in sequence_reads])\n",
    "print(\"3 Most Common:\", k_mers.most_common(3))\n",
    "\n",
    "# Find and print out the three most repeated k-mers and their frequencies"
   ]
  },
  {
   "cell_type": "markdown",
   "id": "45831342",
   "metadata": {},
   "source": [
    "### Question 1.2. Greedy approach"
   ]
  },
  {
   "cell_type": "markdown",
   "id": "7f9065e0",
   "metadata": {},
   "source": [
    "One of the approaches to assemble the genome from the given reads is a greedy algorithm. Have a look at the greedy algorithm described on [Wikipedia](https://en.wikipedia.org/wiki/Sequence_assembly#Greedy_algorithm) and answer the following."
   ]
  },
  {
   "cell_type": "markdown",
   "id": "d4f23678",
   "metadata": {},
   "source": [
    "#### Question 1.2.1 What would the runtime be of this algorithm, given $n$ $k$-mer reads?"
   ]
  },
  {
   "cell_type": "markdown",
   "id": "064b091a",
   "metadata": {},
   "source": [
    "<i>Answer</i>: It will require n^2, alignment will require n^2 time with a double for loop with n time to merge the best overlap."
   ]
  },
  {
   "cell_type": "markdown",
   "id": "f64887cc",
   "metadata": {},
   "source": [
    "#### Question 1.2.2 Would this algorithm always yield a unique solution?"
   ]
  },
  {
   "cell_type": "markdown",
   "id": "f8cb369c",
   "metadata": {},
   "source": [
    "<i>Answer</i>: This algorithm will not always provide a unique solution. In the case where there are 2 equally optimal merges the algorithm could do and get an equally optimal/\"right\" solution, there would be more than 1 solution to the inputs of the algorithm."
   ]
  },
  {
   "cell_type": "markdown",
   "id": "11d929e0",
   "metadata": {},
   "source": [
    "#### Question 1.2.3 Would this algorithm always yield the <i>right</i> solution?"
   ]
  },
  {
   "cell_type": "markdown",
   "id": "caa14b4d",
   "metadata": {},
   "source": [
    "<i>Answer</i>: The greedy approach will always yield the right solution even if it is not the best solution and most optimal solution. The Wikipedia page here (https://en.wikipedia.org/wiki/Greedy_algorithm) says it can produce the \"unique worst possible\". This is helpful because it will allow it to give us a solution in a short amount of time rather then going through all possible iterations."
   ]
  },
  {
   "cell_type": "markdown",
   "id": "80afb0ba",
   "metadata": {},
   "source": [
    "### Question 1.3 Graph-based approaches"
   ]
  },
  {
   "cell_type": "markdown",
   "id": "c92b0585",
   "metadata": {},
   "source": [
    "Graphs for genome assembly can be constructed in two ways:\n",
    "\n",
    "- de Bruijn graph: Processing $k-$mers as nodes, with $(k-1)-$mers as edges, and\n",
    "- Overlap graph: Processing $k-$mers as edges, with $(k-1)-$mers as nodes.\n",
    "\n",
    "de Bruijn graphs can be processed to find Euler paths, while Overlap graphs can be processed to find Hamiltonian paths. Both of these are valid ways to reconstruct the original genome.\n",
    "\n",
    "<b>Use one of these two techniques to reconstruct the sequence, and print out your reconstructed sequence. Which method did you pick out of the two, and why? (hint: imagine what would happen when we have millions of reads). Use the k-mers provided in TeleTubby.fastq</b>.\n",
    "\n",
    "We provide some skeleton code that you may use, but you may also come up with your own solution."
   ]
  },
  {
   "cell_type": "code",
   "execution_count": 7,
   "id": "ecd09f0a",
   "metadata": {},
   "outputs": [],
   "source": [
    "# Read reads into graph\n",
    "# de bruijn graph - list items as nodes and (k-1)-mers as edges. For a huge list overlap would be bad since there would be n*(len(l))\n",
    "def build_graphbad(k_mers):\n",
    "    k = len(k_mers[0])\n",
    "    edges = []\n",
    "    nodes = set()\n",
    "    # Your code here\n",
    "    for kmer in k_mers:\n",
    "# #         edges.append(kmer)\n",
    "        edges.append((kmer[0:k-1],kmer[1:k]))\n",
    "        nodes.add(kmer[0:k-1])\n",
    "        nodes.add(kmer[1:k])\n",
    "    return nodes, edges\n",
    "def build_graph(kmers):\n",
    "    k = len(kmers[0])\n",
    "    graph = {}\n",
    "    for i in range(len(kmers)):\n",
    "        try:\n",
    "            graph[kmers[i][:-1]].append(kmers[i][1:])\n",
    "        except:\n",
    "            graph[kmers[i][:-1]] = [kmers[i][1:]]\n",
    "    return graph\n",
    "\n",
    "nod,edg = build_graphbad(sequence_reads)\n",
    "graph = build_graph(sequence_reads)\n",
    "# print(nod, edg)\n",
    "# print (*(sorted([key + ' -> ' + ','.join(sorted([v for v in value]))\n",
    "#                  for key, value in graph.items()])),sep ='\\n')"
   ]
  },
  {
   "cell_type": "code",
   "execution_count": 8,
   "id": "673fa392",
   "metadata": {},
   "outputs": [],
   "source": [
    "# Implement assembly algorithm\n",
    "# print(find_eulerian_tour(graph))\n",
    "def EulerCycleSolve1(graph):\n",
    "    path = []\n",
    "    key = np.random.choice(list(graph.keys()))\n",
    "    while len(graph[key]) == 0:\n",
    "        key = np.random.choice(list(graph.keys()))\n",
    "#     print(key)\n",
    "    path.append(key)\n",
    "    \n",
    "    while len(graph.values()) != 0:\n",
    "        value = np.random.choice(graph[key])\n",
    "        graph[key].remove(value)\n",
    "        key = value\n",
    "        path.append(key)\n",
    "#         print(key)\n",
    "#         if key in graph.keys(): print(\"Yes\")\n",
    "#         print(key)\n",
    "        while len(graph.keys()) != 0 and key not in graph.keys():\n",
    "#             print(\"1\")\n",
    "            key = np.random.choice(list(graph.keys()))\n",
    "        while len(graph[key]) == 0:\n",
    "            \n",
    "#             print(len(graph.keys()))\n",
    "            if len(graph.keys()) <= 1:\n",
    "                return path\n",
    "            graph.pop(key)\n",
    "            key = np.random.choice(list(graph.keys()))\n",
    "    return path\n",
    "def EulerCycleSolver(graph):\n",
    "    path = []\n",
    "#     key = random.choice(list(graph.keys()))\n",
    "    key = \"GCTATCG\"\n",
    "#     print(key, graph[key])\n",
    "    \n",
    "    path.append(key)\n",
    "    try:\n",
    "        while key in graph.keys() and len(graph[key]) != 0:\n",
    "            value = random.choice(graph[key])\n",
    "            graph[key].remove(value)\n",
    "            key = value\n",
    "            path.append(key)\n",
    "#             print(path)\n",
    "    \n",
    "    except:\n",
    "        print(\"whatsup\")\n",
    "    for key in path:\n",
    "        if key in graph.keys() and len(graph[key]) != 0:\n",
    "            x = len(path) - path.index(key) - 1\n",
    "            while key in graph.keys() and len(graph[key]) != 0:\n",
    "                value = random.choice(graph[key])\n",
    "                graph[key].remove(value)\n",
    "                key = value\n",
    "                path.insert(-x, key)\n",
    "    #path.pop() #- if want to minus last connection\n",
    "    return path\n",
    "def makeEulerPath(nodes, edges):\n",
    "    k = 8\n",
    "    startNode = \"\" \n",
    "    endNode = \"\"\n",
    "    output = \"\" \n",
    "    for node in nodes:\n",
    "        inputNode = 0\n",
    "        outputNode = 0\n",
    "        for edge in edges:\n",
    "            if node in edge[0:k-1]:\n",
    "                outputNode+=1\n",
    "            if node == edge[1::]:\n",
    "                inputNode +=1 \n",
    "        if( inputNode - outputNode == 1 ):\n",
    "            startNode = node\n",
    "                \n",
    "        if( outputNode - inputNode == 1 ):\n",
    "            endNode = node \n",
    "    \n",
    "    currentNode = startNode\n",
    "    \n",
    "    output = startNode \n",
    "    \n",
    "#     print (startNode)\n",
    "    \n",
    "#     print(endNode)\n",
    "    \n",
    "    testEdges = edges\n",
    "    \n",
    "    while( currentNode != endNode ):\n",
    "        for edge in testEdges:\n",
    "#             print(currentNode, edge[0:k-1])\n",
    "            if(currentNode == edge[0:k-1]):  \n",
    "                output += edges[k-1] \n",
    "                testEdges.remove(edge) \n",
    "        # Advance currentNode \n",
    "                currentNode = edge[1:k] \n",
    "    print(output)\n",
    "    return output \n",
    "            \n",
    "def assemble(nodes, edges):\n",
    "    graph_in = collections.defaultdict(list)\n",
    "    graph_out = collections.defaultdict(list)\n",
    "    for e in edges:\n",
    "        graph_out[e[0]].append(e[1])\n",
    "        graph_in[e[0]].append(e[1])\n",
    "    seen = set()\n",
    "    for node in graph_out:\n",
    "        out_deg = len(graph_out[node])\n",
    "        in_deg = 0\n",
    "        if node in graph_in:\n",
    "            in_deg = len(graph_in[node])\n",
    "            \n",
    "        else:\n",
    "            seen.add(node)\n",
    "        if out_deg != in_deg:\n",
    "            seen.add(node)\n",
    "#     print(graph_in)       \n",
    "    seen2 = set()\n",
    "    for node in graph_in:\n",
    "        in_deg = len(graph_in[node])\n",
    "        out_deg = 0\n",
    "        if node in graph_out:\n",
    "            out_deg = len(graph_out[node])\n",
    "        else:\n",
    "            seen2.add(node)\n",
    "        if out_deg != in_deg:\n",
    "            seen2.add(node)\n",
    "        \n",
    "    arb = None\n",
    "    for d in seen.copy():\n",
    "        arb = d\n",
    "        if d in seen2:\n",
    "            seen.remove(d)\n",
    "    for d,d2 in zip(seen,seen2):\n",
    "        graph_out[d2] = [d]\n",
    "    \n",
    "    path = []\n",
    "    def dfs(cur, graph, path):\n",
    "        stack = []\n",
    "        stack.append(cur)\n",
    "        while(len(stack)!=0):\n",
    "            while len(graph[cur]) > 0:\n",
    "                cur = graph[cur].pop()\n",
    "                stack.append(cur)\n",
    "\n",
    "            path.insert(0, stack.pop())\n",
    "\n",
    "    dfs(arb,graph_out, path)\n",
    "    print(path)\n",
    "    assembled_sequence = path[0]\n",
    "#     print(assembled_sequence)\n",
    "    del path[0]\n",
    "    for p in path:\n",
    "        assembled_sequence += p[-1]\n",
    "#     print(assembled_sequence)\n",
    "    return assembled_sequence\n",
    "\n",
    "# full = EulerCycleSolve1(graph) # Puts graph into assembly sequence\n",
    "\n",
    "\n",
    "        # print(makeEulerPath(nodes, edges))\n",
    "# full = EulerCycleSolver(graph1)"
   ]
  },
  {
   "cell_type": "code",
   "execution_count": 9,
   "id": "bb2b4eaf",
   "metadata": {},
   "outputs": [
    {
     "name": "stdout",
     "output_type": "stream",
     "text": [
      "300\n",
      "CGCAAACCGACTGTCGGACTCTTTCATGAGCAAAAAAAGTGGGAGTATGGTGCACATCCGCTATCGCAAACATCGCAACCTAAGAGAGAAGGGGTTTTGTGTTAGCAGTTTCTTCATGCATCTCTTTACAAGAATTACAGGAGCCAAACACTCGCTGTCATGGTATCGACATATCGCTACTGGTGCCGCCCTTCGATGCAATGTTGCAGGATAACAACTTATGTACTACATGTTGTTTCTCGTGCCCGCCAATGTCGAGAGATTTGTGCTATGCCTGCCCGGAGGCGCTATCGATAGCAA\n"
     ]
    }
   ],
   "source": [
    "# Print assembled sequence\n",
    "# print(assemble(nod,edg))\n",
    "# def assembledSequenceMaker(path):  \n",
    "#     s = path[0]\n",
    "#     for i in range(1, len(path)):\n",
    "#         s += path[i][-1]\n",
    "#     return s\n",
    "complete = EulerCycleSolve1(graph)\n",
    "# sequence = assembledSequenceMaker(full)# s = euler[0]\n",
    "seq = complete[0]\n",
    "for i in range(1, len(complete)):\n",
    "    seq += complete[i][-1]\n",
    "print(len(seq))\n",
    "print(seq)\n",
    "# for i in range(1,len(euler)):\n",
    "#     s += euler[i]\n",
    "# print(s)\n",
    "# print(sequence)"
   ]
  },
  {
   "cell_type": "code",
   "execution_count": 10,
   "id": "3aed4102",
   "metadata": {},
   "outputs": [],
   "source": [
    "# Needed to properly visualize graphs\n",
    "%load_ext gvmagic"
   ]
  },
  {
   "cell_type": "code",
   "execution_count": 11,
   "id": "90922efd",
   "metadata": {},
   "outputs": [
    {
     "name": "stdout",
     "output_type": "stream",
     "text": [
      "[('CGCAAAC', 'GCAAACC'), ('GCAAACC', 'CAAACCG'), ('CAAACCG', 'AAACCGA'), ('AAACCGA', 'AACCGAC'), ('AACCGAC', 'ACCGACT'), ('ACCGACT', 'CCGACTG'), ('CCGACTG', 'CGACTGT'), ('CGACTGT', 'GACTGTC'), ('GACTGTC', 'ACTGTCG'), ('ACTGTCG', 'CTGTCGG'), ('CTGTCGG', 'TGTCGGA'), ('TGTCGGA', 'GTCGGAC'), ('GTCGGAC', 'TCGGACT'), ('TCGGACT', 'CGGACTC'), ('CGGACTC', 'GGACTCT'), ('GGACTCT', 'GACTCTT'), ('GACTCTT', 'ACTCTTT'), ('ACTCTTT', 'CTCTTTC'), ('CTCTTTC', 'TCTTTCA'), ('TCTTTCA', 'CTTTCAT'), ('CTTTCAT', 'TTTCATG'), ('TTTCATG', 'TTCATGA'), ('TTCATGA', 'TCATGAG'), ('TCATGAG', 'CATGAGC'), ('CATGAGC', 'ATGAGCA'), ('ATGAGCA', 'TGAGCAA'), ('TGAGCAA', 'GAGCAAA'), ('GAGCAAA', 'AGCAAAA'), ('AGCAAAA', 'GCAAAAA'), ('GCAAAAA', 'CAAAAAA'), ('CAAAAAA', 'AAAAAAA'), ('AAAAAAA', 'AAAAAAG'), ('AAAAAAG', 'AAAAAGT'), ('AAAAAGT', 'AAAAGTG'), ('AAAAGTG', 'AAAGTGG'), ('AAAGTGG', 'AAGTGGG'), ('AAGTGGG', 'AGTGGGA'), ('AGTGGGA', 'GTGGGAG'), ('GTGGGAG', 'TGGGAGT'), ('TGGGAGT', 'GGGAGTA'), ('GGGAGTA', 'GGAGTAT'), ('GGAGTAT', 'GAGTATG'), ('GAGTATG', 'AGTATGG'), ('AGTATGG', 'GTATGGT'), ('GTATGGT', 'TATGGTG'), ('TATGGTG', 'ATGGTGC'), ('ATGGTGC', 'TGGTGCA'), ('TGGTGCA', 'GGTGCAC'), ('GGTGCAC', 'GTGCACA'), ('GTGCACA', 'TGCACAT'), ('TGCACAT', 'GCACATC'), ('GCACATC', 'CACATCC'), ('CACATCC', 'ACATCCG'), ('ACATCCG', 'CATCCGC'), ('CATCCGC', 'ATCCGCT'), ('ATCCGCT', 'TCCGCTA'), ('TCCGCTA', 'CCGCTAT'), ('CCGCTAT', 'CGCTATC'), ('CGCTATC', 'GCTATCG'), ('GCTATCG', 'CTATCGC'), ('CTATCGC', 'TATCGCA'), ('TATCGCA', 'ATCGCAA'), ('ATCGCAA', 'TCGCAAA'), ('TCGCAAA', 'CGCAAAC'), ('CGCAAAC', 'TGTGCTA'), ('TGTGCTA', 'GTGCTAT'), ('GTGCTAT', 'TGCTATC'), ('TGCTATC', 'GCTATCG'), ('GCTATCG', 'CTATCGC'), ('CTATCGC', 'TATCGCA'), ('TATCGCA', 'ATCGCAA'), ('ATCGCAA', 'TCGCAAC'), ('TCGCAAC', 'CGCAACC'), ('CGCAACC', 'GCAACCT'), ('GCAACCT', 'CAACCTA'), ('CAACCTA', 'AACCTAA'), ('AACCTAA', 'ACCTAAG'), ('ACCTAAG', 'CCTAAGA'), ('CCTAAGA', 'CTAAGAG'), ('CTAAGAG', 'TAAGAGA'), ('TAAGAGA', 'AAGAGAG'), ('AAGAGAG', 'AGAGAGA'), ('AGAGAGA', 'GAGAGAA'), ('GAGAGAA', 'AGAGAAG'), ('AGAGAAG', 'GAGAAGG'), ('GAGAAGG', 'AGAAGGG'), ('AGAAGGG', 'GAAGGGG'), ('GAAGGGG', 'AAGGGGT'), ('AAGGGGT', 'AGGGGTT'), ('AGGGGTT', 'GGGGTTT'), ('GGGGTTT', 'GGGTTTT'), ('GGGTTTT', 'GGTTTTG'), ('GGTTTTG', 'GTTTTGT'), ('GTTTTGT', 'TTTTGTG'), ('TTTTGTG', 'TTTGTGT'), ('TTTGTGT', 'TTGTGTT'), ('TTGTGTT', 'TGTGTTA'), ('TGTGTTA', 'GTGTTAG'), ('GTGTTAG', 'TGTTAGC'), ('TGTTAGC', 'GTTAGCA'), ('GTTAGCA', 'TTAGCAG'), ('TTAGCAG', 'TAGCAGT'), ('TAGCAGT', 'AGCAGTT'), ('AGCAGTT', 'GCAGTTT'), ('GCAGTTT', 'CAGTTTC'), ('CAGTTTC', 'AGTTTCT'), ('AGTTTCT', 'GTTTCTT'), ('GTTTCTT', 'TTTCTTC'), ('TTTCTTC', 'TTCTTCA'), ('TTCTTCA', 'TCTTCAT'), ('TCTTCAT', 'CTTCATG'), ('CTTCATG', 'TTCATGC'), ('TTCATGC', 'TCATGCA'), ('TCATGCA', 'CATGCAT'), ('CATGCAT', 'ATGCATC'), ('ATGCATC', 'TGCATCT'), ('TGCATCT', 'GCATCTC'), ('GCATCTC', 'CATCTCT'), ('CATCTCT', 'ATCTCTT'), ('ATCTCTT', 'TCTCTTT'), ('TCTCTTT', 'CTCTTTA'), ('CTCTTTA', 'TCTTTAC'), ('TCTTTAC', 'CTTTACA'), ('CTTTACA', 'TTTACAA'), ('TTTACAA', 'TTACAAG'), ('TTACAAG', 'TACAAGA'), ('TACAAGA', 'ACAAGAA'), ('ACAAGAA', 'CAAGAAT'), ('CAAGAAT', 'AAGAATT'), ('AAGAATT', 'AGAATTA'), ('AGAATTA', 'GAATTAC'), ('GAATTAC', 'AATTACA'), ('AATTACA', 'ATTACAG'), ('ATTACAG', 'TTACAGG'), ('TTACAGG', 'TACAGGA'), ('TACAGGA', 'ACAGGAG'), ('ACAGGAG', 'CAGGAGC'), ('CAGGAGC', 'AGGAGCC'), ('AGGAGCC', 'GGAGCCA'), ('GGAGCCA', 'GAGCCAA'), ('GAGCCAA', 'AGCCAAA'), ('AGCCAAA', 'GCCAAAC'), ('GCCAAAC', 'CCAAACA'), ('CCAAACA', 'CAAACAC'), ('CAAACAC', 'AAACACT'), ('AAACACT', 'AACACTC'), ('AACACTC', 'ACACTCG'), ('ACACTCG', 'CACTCGC'), ('CACTCGC', 'ACTCGCT'), ('ACTCGCT', 'CTCGCTG'), ('CTCGCTG', 'TCGCTGT'), ('TCGCTGT', 'CGCTGTC'), ('CGCTGTC', 'GCTGTCA'), ('GCTGTCA', 'CTGTCAT'), ('CTGTCAT', 'TGTCATG'), ('TGTCATG', 'GTCATGG'), ('GTCATGG', 'TCATGGT'), ('TCATGGT', 'CATGGTA'), ('CATGGTA', 'ATGGTAT'), ('ATGGTAT', 'TGGTATC'), ('TGGTATC', 'GGTATCG'), ('GGTATCG', 'GTATCGA'), ('GTATCGA', 'TATCGAC'), ('TATCGAC', 'ATCGACA'), ('ATCGACA', 'TCGACAT'), ('TCGACAT', 'CGACATA'), ('CGACATA', 'GACATAT'), ('GACATAT', 'ACATATC'), ('ACATATC', 'CATATCG'), ('CATATCG', 'ATATCGC'), ('ATATCGC', 'TATCGCT'), ('TATCGCT', 'ATCGCTA'), ('ATCGCTA', 'TCGCTAC'), ('TCGCTAC', 'CGCTACT'), ('CGCTACT', 'GCTACTG'), ('GCTACTG', 'CTACTGG'), ('CTACTGG', 'TACTGGT'), ('TACTGGT', 'ACTGGTG'), ('ACTGGTG', 'CTGGTGC'), ('CTGGTGC', 'TGGTGCC'), ('TGGTGCC', 'GGTGCCG'), ('GGTGCCG', 'GTGCCGC'), ('GTGCCGC', 'TGCCGCC'), ('TGCCGCC', 'GCCGCCC'), ('GCCGCCC', 'CCGCCCT'), ('CCGCCCT', 'CGCCCTT'), ('CGCCCTT', 'GCCCTTC'), ('GCCCTTC', 'CCCTTCG'), ('CCCTTCG', 'CCTTCGA'), ('CCTTCGA', 'CTTCGAT'), ('CTTCGAT', 'TTCGATG'), ('TTCGATG', 'TCGATGC'), ('TCGATGC', 'CGATGCA'), ('CGATGCA', 'GATGCAA'), ('GATGCAA', 'ATGCAAT'), ('ATGCAAT', 'TGCAATG'), ('TGCAATG', 'GCAATGT'), ('GCAATGT', 'CAATGTT'), ('CAATGTT', 'CAATGCG'), ('CAATGCG', 'AATGCGC'), ('AATGCGC', 'ATGCGCA'), ('ATGCGCA', 'TGCGCAG'), ('TGCGCAG', 'GCGCAGG'), ('GCGCAGG', 'CGCAGGA'), ('CGCAGGA', 'GCAGGAT'), ('GCAGGAT', 'CAGGATA'), ('CAGGATA', 'AGGATAA'), ('AGGATAA', 'GGATAAC'), ('GGATAAC', 'GATAACA'), ('GATAACA', 'ATAACAA'), ('ATAACAA', 'TAACAAC'), ('TAACAAC', 'AACAACT'), ('AACAACT', 'ACAACTT'), ('ACAACTT', 'CAACTTA'), ('CAACTTA', 'AACTTAT'), ('AACTTAT', 'ACTTATG'), ('ACTTATG', 'CTTATGT'), ('CTTATGT', 'TTATGTA'), ('TTATGTA', 'TATGTAC'), ('TATGTAC', 'ATGTACT'), ('ATGTACT', 'TGTACTA'), ('TGTACTA', 'GTACTAC'), ('GTACTAC', 'TACTACA'), ('TACTACA', 'ACTACAT'), ('ACTACAT', 'CTACATG'), ('CTACATG', 'TACATGT'), ('TACATGT', 'ACATGTT'), ('ACATGTT', 'CATGTTG'), ('CATGTTG', 'ATGTTGT'), ('ATGTTGT', 'TGTTGTT'), ('TGTTGTT', 'GTTGTTT'), ('GTTGTTT', 'TTGTTTC'), ('TTGTTTC', 'TGTTTCT'), ('TGTTTCT', 'GTTTCTC'), ('GTTTCTC', 'TTTCTCG'), ('TTTCTCG', 'TTCTCGT'), ('TTCTCGT', 'TCTCGTG'), ('TCTCGTG', 'CTCGTGC'), ('CTCGTGC', 'TCGTGCC'), ('TCGTGCC', 'CGTGCCC'), ('CGTGCCC', 'GTGCCCG'), ('GTGCCCG', 'TGCCCGC'), ('TGCCCGC', 'GCCCGCC'), ('GCCCGCC', 'CCCGCCA'), ('CCCGCCA', 'CCGCCAA'), ('CCGCCAA', 'CGCCAAT'), ('CGCCAAT', 'GCCAATG'), ('GCCAATG', 'CCAATGT'), ('CCAATGT', 'CAATGTC'), ('CAATGTC', 'AATGTCG'), ('AATGTCG', 'ATGTCGA'), ('ATGTCGA', 'TGTCGAG'), ('TGTCGAG', 'GTCGAGA'), ('GTCGAGA', 'TCGAGAG'), ('TCGAGAG', 'CGAGAGA'), ('CGAGAGA', 'GAGAGAT'), ('GAGAGAT', 'AGAGATT'), ('AGAGATT', 'GAGATTT'), ('GAGATTT', 'AGATTTG'), ('AGATTTG', 'GATTTGT'), ('GATTTGT', 'ATTTGTG'), ('ATTTGTG', 'TTTGTGC'), ('TTTGTGC', 'TTGTGCT'), ('TTGTGCT', 'ATAGCAA'), ('ATAGCAA', 'TAGCAAT'), ('TAGCAAT', 'AGCAATG'), ('AGCAATG', 'GCAATGC'), ('GCAATGC', 'CTATCGC'), ('CTATCGC', 'TATCGCT'), ('TATCGCT', 'ATCGCTG'), ('ATCGCTG', 'TCGCTGC'), ('TCGCTGC', 'CGCTGCC'), ('CGCTGCC', 'GCTGCCC'), ('GCTGCCC', 'CTGCCCG'), ('CTGCCCG', 'TGCCCGG'), ('TGCCCGG', 'GCCCGGA'), ('GCCCGGA', 'CCCGGAG'), ('CCCGGAG', 'CCGGAGG'), ('CCGGAGG', 'CGGAGGC'), ('CGGAGGC', 'GGAGGCG'), ('GGAGGCG', 'GAGGCGC'), ('GAGGCGC', 'AGGCGCT'), ('AGGCGCT', 'GGCGCTA'), ('GGCGCTA', 'GCGCTAT'), ('GCGCTAT', 'CGCTATC'), ('CGCTATC', 'GCTATCG'), ('GCTATCG', 'AATAGCA'), ('AATAGCA', 'GCCAAAT'), ('GCCAAAT', 'CCAAATA'), ('CCAAATA', 'CAAATAG'), ('CAAATAG', 'AAATAGC'), ('AAATAGC', 'ACGCCAA'), ('ACGCCAA', 'CGCCAAA')]\n"
     ]
    },
    {
     "ename": "FileNotFoundError",
     "evalue": "[WinError 2] The system cannot find the file specified",
     "output_type": "error",
     "traceback": [
      "\u001b[1;31m---------------------------------------------------------------------------\u001b[0m",
      "\u001b[1;31mFileNotFoundError\u001b[0m                         Traceback (most recent call last)",
      "Input \u001b[1;32mIn [11]\u001b[0m, in \u001b[0;36m<cell line: 20>\u001b[1;34m()\u001b[0m\n\u001b[0;32m     12\u001b[0m \u001b[38;5;66;03m# print (*(sorted([key + ' -> ' + ','.join(sorted([v for v in value]))\u001b[39;00m\n\u001b[0;32m     13\u001b[0m \u001b[38;5;66;03m#                  for key, value in edge2.items()])),sep ='\\n')\u001b[39;00m\n\u001b[0;32m     14\u001b[0m \u001b[38;5;66;03m# print(len(edges_bruijn))\u001b[39;00m\n\u001b[1;32m   (...)\u001b[0m\n\u001b[0;32m     17\u001b[0m \u001b[38;5;66;03m# for i in complete\u001b[39;00m\n\u001b[0;32m     18\u001b[0m \u001b[38;5;66;03m# print(edges_bruijn)  \u001b[39;00m\n\u001b[0;32m     19\u001b[0m \u001b[38;5;28mprint\u001b[39m(edgesss)\n\u001b[1;32m---> 20\u001b[0m \u001b[43mget_ipython\u001b[49m\u001b[43m(\u001b[49m\u001b[43m)\u001b[49m\u001b[38;5;241;43m.\u001b[39;49m\u001b[43mrun_line_magic\u001b[49m\u001b[43m(\u001b[49m\u001b[38;5;124;43m'\u001b[39;49m\u001b[38;5;124;43mdotstr\u001b[39;49m\u001b[38;5;124;43m'\u001b[39;49m\u001b[43m,\u001b[49m\u001b[43m \u001b[49m\u001b[38;5;124;43m'\u001b[39;49m\u001b[38;5;124;43mutils.viz_debruijn(nod,edg)\u001b[39;49m\u001b[38;5;124;43m'\u001b[39;49m\u001b[43m)\u001b[49m\n",
      "File \u001b[1;32mc:\\users\\basil\\proj1\\project-1-2022f\\venv\\lib\\site-packages\\IPython\\core\\interactiveshell.py:2305\u001b[0m, in \u001b[0;36mInteractiveShell.run_line_magic\u001b[1;34m(self, magic_name, line, _stack_depth)\u001b[0m\n\u001b[0;32m   2303\u001b[0m     kwargs[\u001b[38;5;124m'\u001b[39m\u001b[38;5;124mlocal_ns\u001b[39m\u001b[38;5;124m'\u001b[39m] \u001b[38;5;241m=\u001b[39m \u001b[38;5;28mself\u001b[39m\u001b[38;5;241m.\u001b[39mget_local_scope(stack_depth)\n\u001b[0;32m   2304\u001b[0m \u001b[38;5;28;01mwith\u001b[39;00m \u001b[38;5;28mself\u001b[39m\u001b[38;5;241m.\u001b[39mbuiltin_trap:\n\u001b[1;32m-> 2305\u001b[0m     result \u001b[38;5;241m=\u001b[39m fn(\u001b[38;5;241m*\u001b[39margs, \u001b[38;5;241m*\u001b[39m\u001b[38;5;241m*\u001b[39mkwargs)\n\u001b[0;32m   2306\u001b[0m \u001b[38;5;28;01mreturn\u001b[39;00m result\n",
      "File \u001b[1;32m~\\proj1\\Project-1-2022F\\gvmagic.py:51\u001b[0m, in \u001b[0;36mGraphvizMagics.dotstr\u001b[1;34m(self, line)\u001b[0m\n\u001b[0;32m     49\u001b[0m \u001b[38;5;129m@line_magic\u001b[39m\n\u001b[0;32m     50\u001b[0m \u001b[38;5;28;01mdef\u001b[39;00m \u001b[38;5;21mdotstr\u001b[39m(\u001b[38;5;28mself\u001b[39m, line):\n\u001b[1;32m---> 51\u001b[0m     \u001b[38;5;28;43mself\u001b[39;49m\u001b[38;5;241;43m.\u001b[39;49m\u001b[43m_from_str\u001b[49m\u001b[43m(\u001b[49m\u001b[43mline\u001b[49m\u001b[43m,\u001b[49m\u001b[43m \u001b[49m\u001b[38;5;124;43m'\u001b[39;49m\u001b[38;5;124;43mdot\u001b[39;49m\u001b[38;5;124;43m'\u001b[39;49m\u001b[43m)\u001b[49m\n",
      "File \u001b[1;32m~\\proj1\\Project-1-2022F\\gvmagic.py:152\u001b[0m, in \u001b[0;36mGraphvizMagics._from_str\u001b[1;34m(self, line, layout_engine)\u001b[0m\n\u001b[0;32m    150\u001b[0m \u001b[38;5;28;01mdef\u001b[39;00m \u001b[38;5;21m_from_str\u001b[39m(\u001b[38;5;28mself\u001b[39m, line, layout_engine):\n\u001b[0;32m    151\u001b[0m     s \u001b[38;5;241m=\u001b[39m \u001b[38;5;28mself\u001b[39m\u001b[38;5;241m.\u001b[39mshell\u001b[38;5;241m.\u001b[39mev(line)\n\u001b[1;32m--> 152\u001b[0m     data \u001b[38;5;241m=\u001b[39m \u001b[43mrun_graphviz\u001b[49m\u001b[43m(\u001b[49m\u001b[43ms\u001b[49m\u001b[43m,\u001b[49m\u001b[43m \u001b[49m\u001b[43mlayout_engine\u001b[49m\u001b[43m)\u001b[49m\n\u001b[0;32m    153\u001b[0m     \u001b[38;5;28;01mif\u001b[39;00m data:\n\u001b[0;32m    154\u001b[0m         show_svg(data)\n",
      "File \u001b[1;32m~\\proj1\\Project-1-2022F\\gvmagic.py:31\u001b[0m, in \u001b[0;36mrun_graphviz\u001b[1;34m(s, layout_engine)\u001b[0m\n\u001b[0;32m     29\u001b[0m \u001b[38;5;124;03m\"\"\"Execute dot with a layout and return a raw SVG image, or None.\"\"\"\u001b[39;00m\n\u001b[0;32m     30\u001b[0m cmd \u001b[38;5;241m=\u001b[39m [\u001b[38;5;124m'\u001b[39m\u001b[38;5;124mdot\u001b[39m\u001b[38;5;124m'\u001b[39m, \u001b[38;5;124m'\u001b[39m\u001b[38;5;124m-Tsvg\u001b[39m\u001b[38;5;124m'\u001b[39m, \u001b[38;5;124m'\u001b[39m\u001b[38;5;124m-K\u001b[39m\u001b[38;5;124m'\u001b[39m, layout_engine]\n\u001b[1;32m---> 31\u001b[0m dot \u001b[38;5;241m=\u001b[39m \u001b[43mPopen\u001b[49m\u001b[43m(\u001b[49m\u001b[43mcmd\u001b[49m\u001b[43m)\u001b[49m\u001b[38;5;66;03m#, stdin=PIPE, stdout=PIPE, stderr=PIPE)\u001b[39;00m\n\u001b[0;32m     32\u001b[0m stdoutdata, stderrdata \u001b[38;5;241m=\u001b[39m dot\u001b[38;5;241m.\u001b[39mcommunicate(s\u001b[38;5;241m.\u001b[39mencode(\u001b[38;5;124m'\u001b[39m\u001b[38;5;124mutf-8\u001b[39m\u001b[38;5;124m'\u001b[39m))\n\u001b[0;32m     33\u001b[0m status \u001b[38;5;241m=\u001b[39m dot\u001b[38;5;241m.\u001b[39mwait()\n",
      "File \u001b[1;32mC:\\Program Files\\WindowsApps\\PythonSoftwareFoundation.Python.3.9_3.9.3568.0_x64__qbz5n2kfra8p0\\lib\\subprocess.py:951\u001b[0m, in \u001b[0;36mPopen.__init__\u001b[1;34m(self, args, bufsize, executable, stdin, stdout, stderr, preexec_fn, close_fds, shell, cwd, env, universal_newlines, startupinfo, creationflags, restore_signals, start_new_session, pass_fds, user, group, extra_groups, encoding, errors, text, umask)\u001b[0m\n\u001b[0;32m    947\u001b[0m         \u001b[38;5;28;01mif\u001b[39;00m \u001b[38;5;28mself\u001b[39m\u001b[38;5;241m.\u001b[39mtext_mode:\n\u001b[0;32m    948\u001b[0m             \u001b[38;5;28mself\u001b[39m\u001b[38;5;241m.\u001b[39mstderr \u001b[38;5;241m=\u001b[39m io\u001b[38;5;241m.\u001b[39mTextIOWrapper(\u001b[38;5;28mself\u001b[39m\u001b[38;5;241m.\u001b[39mstderr,\n\u001b[0;32m    949\u001b[0m                     encoding\u001b[38;5;241m=\u001b[39mencoding, errors\u001b[38;5;241m=\u001b[39merrors)\n\u001b[1;32m--> 951\u001b[0m     \u001b[38;5;28;43mself\u001b[39;49m\u001b[38;5;241;43m.\u001b[39;49m\u001b[43m_execute_child\u001b[49m\u001b[43m(\u001b[49m\u001b[43margs\u001b[49m\u001b[43m,\u001b[49m\u001b[43m \u001b[49m\u001b[43mexecutable\u001b[49m\u001b[43m,\u001b[49m\u001b[43m \u001b[49m\u001b[43mpreexec_fn\u001b[49m\u001b[43m,\u001b[49m\u001b[43m \u001b[49m\u001b[43mclose_fds\u001b[49m\u001b[43m,\u001b[49m\n\u001b[0;32m    952\u001b[0m \u001b[43m                        \u001b[49m\u001b[43mpass_fds\u001b[49m\u001b[43m,\u001b[49m\u001b[43m \u001b[49m\u001b[43mcwd\u001b[49m\u001b[43m,\u001b[49m\u001b[43m \u001b[49m\u001b[43menv\u001b[49m\u001b[43m,\u001b[49m\n\u001b[0;32m    953\u001b[0m \u001b[43m                        \u001b[49m\u001b[43mstartupinfo\u001b[49m\u001b[43m,\u001b[49m\u001b[43m \u001b[49m\u001b[43mcreationflags\u001b[49m\u001b[43m,\u001b[49m\u001b[43m \u001b[49m\u001b[43mshell\u001b[49m\u001b[43m,\u001b[49m\n\u001b[0;32m    954\u001b[0m \u001b[43m                        \u001b[49m\u001b[43mp2cread\u001b[49m\u001b[43m,\u001b[49m\u001b[43m \u001b[49m\u001b[43mp2cwrite\u001b[49m\u001b[43m,\u001b[49m\n\u001b[0;32m    955\u001b[0m \u001b[43m                        \u001b[49m\u001b[43mc2pread\u001b[49m\u001b[43m,\u001b[49m\u001b[43m \u001b[49m\u001b[43mc2pwrite\u001b[49m\u001b[43m,\u001b[49m\n\u001b[0;32m    956\u001b[0m \u001b[43m                        \u001b[49m\u001b[43merrread\u001b[49m\u001b[43m,\u001b[49m\u001b[43m \u001b[49m\u001b[43merrwrite\u001b[49m\u001b[43m,\u001b[49m\n\u001b[0;32m    957\u001b[0m \u001b[43m                        \u001b[49m\u001b[43mrestore_signals\u001b[49m\u001b[43m,\u001b[49m\n\u001b[0;32m    958\u001b[0m \u001b[43m                        \u001b[49m\u001b[43mgid\u001b[49m\u001b[43m,\u001b[49m\u001b[43m \u001b[49m\u001b[43mgids\u001b[49m\u001b[43m,\u001b[49m\u001b[43m \u001b[49m\u001b[43muid\u001b[49m\u001b[43m,\u001b[49m\u001b[43m \u001b[49m\u001b[43mumask\u001b[49m\u001b[43m,\u001b[49m\n\u001b[0;32m    959\u001b[0m \u001b[43m                        \u001b[49m\u001b[43mstart_new_session\u001b[49m\u001b[43m)\u001b[49m\n\u001b[0;32m    960\u001b[0m \u001b[38;5;28;01mexcept\u001b[39;00m:\n\u001b[0;32m    961\u001b[0m     \u001b[38;5;66;03m# Cleanup if the child failed starting.\u001b[39;00m\n\u001b[0;32m    962\u001b[0m     \u001b[38;5;28;01mfor\u001b[39;00m f \u001b[38;5;129;01min\u001b[39;00m \u001b[38;5;28mfilter\u001b[39m(\u001b[38;5;28;01mNone\u001b[39;00m, (\u001b[38;5;28mself\u001b[39m\u001b[38;5;241m.\u001b[39mstdin, \u001b[38;5;28mself\u001b[39m\u001b[38;5;241m.\u001b[39mstdout, \u001b[38;5;28mself\u001b[39m\u001b[38;5;241m.\u001b[39mstderr)):\n",
      "File \u001b[1;32mC:\\Program Files\\WindowsApps\\PythonSoftwareFoundation.Python.3.9_3.9.3568.0_x64__qbz5n2kfra8p0\\lib\\subprocess.py:1420\u001b[0m, in \u001b[0;36mPopen._execute_child\u001b[1;34m(self, args, executable, preexec_fn, close_fds, pass_fds, cwd, env, startupinfo, creationflags, shell, p2cread, p2cwrite, c2pread, c2pwrite, errread, errwrite, unused_restore_signals, unused_gid, unused_gids, unused_uid, unused_umask, unused_start_new_session)\u001b[0m\n\u001b[0;32m   1418\u001b[0m \u001b[38;5;66;03m# Start the process\u001b[39;00m\n\u001b[0;32m   1419\u001b[0m \u001b[38;5;28;01mtry\u001b[39;00m:\n\u001b[1;32m-> 1420\u001b[0m     hp, ht, pid, tid \u001b[38;5;241m=\u001b[39m \u001b[43m_winapi\u001b[49m\u001b[38;5;241;43m.\u001b[39;49m\u001b[43mCreateProcess\u001b[49m\u001b[43m(\u001b[49m\u001b[43mexecutable\u001b[49m\u001b[43m,\u001b[49m\u001b[43m \u001b[49m\u001b[43margs\u001b[49m\u001b[43m,\u001b[49m\n\u001b[0;32m   1421\u001b[0m \u001b[43m                             \u001b[49m\u001b[38;5;66;43;03m# no special security\u001b[39;49;00m\n\u001b[0;32m   1422\u001b[0m \u001b[43m                             \u001b[49m\u001b[38;5;28;43;01mNone\u001b[39;49;00m\u001b[43m,\u001b[49m\u001b[43m \u001b[49m\u001b[38;5;28;43;01mNone\u001b[39;49;00m\u001b[43m,\u001b[49m\n\u001b[0;32m   1423\u001b[0m \u001b[43m                             \u001b[49m\u001b[38;5;28;43mint\u001b[39;49m\u001b[43m(\u001b[49m\u001b[38;5;129;43;01mnot\u001b[39;49;00m\u001b[43m \u001b[49m\u001b[43mclose_fds\u001b[49m\u001b[43m)\u001b[49m\u001b[43m,\u001b[49m\n\u001b[0;32m   1424\u001b[0m \u001b[43m                             \u001b[49m\u001b[43mcreationflags\u001b[49m\u001b[43m,\u001b[49m\n\u001b[0;32m   1425\u001b[0m \u001b[43m                             \u001b[49m\u001b[43menv\u001b[49m\u001b[43m,\u001b[49m\n\u001b[0;32m   1426\u001b[0m \u001b[43m                             \u001b[49m\u001b[43mcwd\u001b[49m\u001b[43m,\u001b[49m\n\u001b[0;32m   1427\u001b[0m \u001b[43m                             \u001b[49m\u001b[43mstartupinfo\u001b[49m\u001b[43m)\u001b[49m\n\u001b[0;32m   1428\u001b[0m \u001b[38;5;28;01mfinally\u001b[39;00m:\n\u001b[0;32m   1429\u001b[0m     \u001b[38;5;66;03m# Child is launched. Close the parent's copy of those pipe\u001b[39;00m\n\u001b[0;32m   1430\u001b[0m     \u001b[38;5;66;03m# handles that only the child should have open.  You need\u001b[39;00m\n\u001b[1;32m   (...)\u001b[0m\n\u001b[0;32m   1433\u001b[0m     \u001b[38;5;66;03m# pipe will not close when the child process exits and the\u001b[39;00m\n\u001b[0;32m   1434\u001b[0m     \u001b[38;5;66;03m# ReadFile will hang.\u001b[39;00m\n\u001b[0;32m   1435\u001b[0m     \u001b[38;5;28mself\u001b[39m\u001b[38;5;241m.\u001b[39m_close_pipe_fds(p2cread, p2cwrite,\n\u001b[0;32m   1436\u001b[0m                          c2pread, c2pwrite,\n\u001b[0;32m   1437\u001b[0m                          errread, errwrite)\n",
      "\u001b[1;31mFileNotFoundError\u001b[0m: [WinError 2] The system cannot find the file specified"
     ]
    }
   ],
   "source": [
    "# Helper function to visualize de Bruijn graphs\n",
    "node_func=[]\n",
    "edge2 = collections.defaultdict(list)\n",
    "edgesss = []\n",
    "for each in range(0,len(complete)-1):\n",
    "    edgesss.append((complete[each],complete[each+1]))\n",
    "#     edge2[complete[each]].append(complete[each+1])\n",
    "    node_func.append(str(complete[each]+complete[each][-1]))\n",
    "\n",
    "edges_bruijn = edgesss\n",
    "nodes_bruijn = node_func\n",
    "# print (*(sorted([key + ' -> ' + ','.join(sorted([v for v in value]))\n",
    "#                  for key, value in edge2.items()])),sep ='\\n')\n",
    "# print(len(edges_bruijn))\n",
    "# print(edges_bruijn)\n",
    "# print(len(node_func))\n",
    "# for i in complete\n",
    "# print(edges_bruijn)  \n",
    "print(edgesss)\n",
    "%dotstr utils.viz_debruijn(nod,edg)\n",
    "                    \n",
    "# %dotstr utils.viz_debruijn(nodes_bruijn, edges_bruijn)"
   ]
  },
  {
   "cell_type": "code",
   "execution_count": null,
   "id": "d17adf35",
   "metadata": {},
   "outputs": [],
   "source": [
    "# Main assembly algorithm\n",
    "\n",
    "def assemble_sequence(nodes, edges):\n",
    "    assembled_sequence = seq\n",
    "    # Your code here\n",
    "    return assembled_sequence"
   ]
  },
  {
   "cell_type": "code",
   "execution_count": null,
   "id": "3a28b8f3",
   "metadata": {},
   "outputs": [],
   "source": [
    "# Output assembled sequence\n",
    "\n",
    "assmebled_seq = assemble_sequence(nod, edg)\n",
    "print(assmebled_seq)"
   ]
  },
  {
   "cell_type": "markdown",
   "id": "1a19b6bb",
   "metadata": {},
   "source": [
    "## Question 2 - Sequencing SARS-CoV-2 virus"
   ]
  },
  {
   "cell_type": "markdown",
   "id": "d1e34a16",
   "metadata": {},
   "source": [
    "Let's move on from TeleTubbies to real-world organisms. Let's start small- with a variant of the SARS-CoV-2 virus. You're given reads from <i>actual</i> genome sequencing runs in the SARS-CoV2.fastq file provided.\n",
    "\n",
    "Repeat Question 1.3 on this data. You can re-use your implementation and simply run it on the new data. Print out your reconstructed sequence to a file \"output.txt\". For this part, we will still assume that all the reads are error-free. Set $k=25$."
   ]
  },
  {
   "cell_type": "code",
   "execution_count": null,
   "id": "3b0467a2",
   "metadata": {},
   "outputs": [],
   "source": [
    "# Read sequence reads\n",
    "sequence_reads_covid, qualities_covid = utils.read_fastq('SARS-CoV2.fastq')"
   ]
  },
  {
   "cell_type": "code",
   "execution_count": null,
   "id": "499f6e13",
   "metadata": {},
   "outputs": [],
   "source": [
    "# Read reads into graph\n",
    "nodes_covid, edges_covid = build_graph(sequence_reads_covid)"
   ]
  },
  {
   "cell_type": "code",
   "execution_count": null,
   "id": "8d566d32",
   "metadata": {},
   "outputs": [],
   "source": [
    "# Call main assembly algorithm\n",
    "assmebled_covid_seq = assemble_sequence(nodes_covid, edges_covid)"
   ]
  },
  {
   "cell_type": "code",
   "execution_count": null,
   "id": "2f90f355",
   "metadata": {},
   "outputs": [],
   "source": [
    "# Write assembled sequence to file\n",
    "\n",
    "assmebled_seq = \"\" # Use your assembled genome\n",
    "with open(\"covid_overlap.txt\", \"w\") as f:\n",
    "    f.write(assmebled_seq)"
   ]
  },
  {
   "cell_type": "markdown",
   "id": "ebdc58b9",
   "metadata": {},
   "source": [
    "# Question 3- Error-Aware Assembly (Extra Credit)"
   ]
  },
  {
   "cell_type": "markdown",
   "id": "d9412818",
   "metadata": {},
   "source": [
    "In the parts above, we assumed error-free reads while assembling $k$-mers. As much as we'd like that, actual reads can (and do) have errors, captured by their Phred scores. For this question, you're given raw, actual reads from sequencing runs (download reads here: https://sra-pub-sars-cov2.s3.amazonaws.com/sra-src/SRR11528307/ABS2-LN-R1_cleaned_paired.fastq.gz).  Given these reads and their Phred33 scores, can you assemble the genome?\n",
    "\n",
    "<b>Print out your assembled sequence, along with a brief explanation of how your algorithm works</b>\n",
    "\n",
    "This is an open-ended question. You are free to use any approach to deal with the issue. Make sure you provide your code, along with any assumptions you may have, in the cells below."
   ]
  },
  {
   "cell_type": "code",
   "execution_count": null,
   "id": "3d1856dd",
   "metadata": {},
   "outputs": [],
   "source": []
  },
  {
   "cell_type": "code",
   "execution_count": null,
   "id": "45b79a5d",
   "metadata": {},
   "outputs": [],
   "source": []
  },
  {
   "cell_type": "code",
   "execution_count": null,
   "id": "3d5fd2fa",
   "metadata": {},
   "outputs": [],
   "source": []
  }
 ],
 "metadata": {
  "kernelspec": {
   "display_name": "Python 3 (ipykernel)",
   "language": "python",
   "name": "python3"
  },
  "language_info": {
   "codemirror_mode": {
    "name": "ipython",
    "version": 3
   },
   "file_extension": ".py",
   "mimetype": "text/x-python",
   "name": "python",
   "nbconvert_exporter": "python",
   "pygments_lexer": "ipython3",
   "version": "3.9.13"
  }
 },
 "nbformat": 4,
 "nbformat_minor": 5
}
