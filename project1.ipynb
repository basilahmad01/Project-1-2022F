{
 "cells": [
  {
   "cell_type": "markdown",
   "id": "6144a167",
   "metadata": {},
   "source": [
    "# Project 1: Assembling Genes"
   ]
  },
  {
   "cell_type": "markdown",
   "id": "eb234718",
   "metadata": {},
   "source": [
    "   <div class=\"alert alert-block alert-danger\">\n",
    "    <center>Due: <b>Monday, September 5, 8:59pm</b>.</center> \n",
    "   </div>\n",
    "   \n",
    "   <div class=\"alert alert-block alert-warning\">\n",
    "   <center>\n",
    "       <b>Collaboration and Resource Policy</b>\n",
    "    </center>\n",
    "    \n",
    "For this assignment, you are encouraged to work with one other person satisfying the constraints from Class 2. \n",
    "You are permitted (actually _encouraged_) to discuss these problems with anyone you want, including other students in the class. If you do discuss the specific questions in the assignment with anyone other than your assignment partner and the course staff, though, you should list them in the _External resources used_ section below.\n",
    "    \n",
    "You are welcome to use any resources you want for this assignment, other than ones that would defeat the purpose of the assignment. This means you should not look at answers or code from previous semesters of this course, or from any other students in the class (other than your collaboration with your partner), and if you find code that implements the problem you are being asked to do for the assignment, you should not use that code. You should document all external resource you use that are not part of the course materials in the _External resources used_ section below.\n",
    "    </div>"
   ]
  },
  {
   "cell_type": "markdown",
   "id": "f16314b1",
   "metadata": {},
   "source": [
    "**Team submitting this assignment:**  \n",
    "<div class=\"alert alert-success\">\n",
    "    <b><em>list each member of your team here, including both your name and UVA computing id</em></b>\n",
    "\n",
    "Team Members (Names):  Syed Ahmad\n",
    "\n",
    "Team Member UVA Computing IDs:sba5k\n",
    "\n",
    "</div>\n",
    "\n",
    "**External resources used:** \n",
    "<div class=\"alert alert-success\">\n",
    "<em>It is not necessary to list the course materials, but if you used any other resources, including discussing problems with students not on your team, list them here.</em>\n",
    "    \n",
    "External Resources Used:\n",
    "\n",
    "</div>"
   ]
  },
  {
   "cell_type": "markdown",
   "id": "58f85efb",
   "metadata": {},
   "source": [
    "In this project, we will explore genome assembly—the process of determining the order of nucleotides in DNA from fragmented reads. As you might have studied in the reading assignments, genome assembly can get quite complicated, as problems such as full sequence coverage, finding a good length for reads (the $k$ in $k$-mer), and sequencing errors present challenges for sequencing analysis and accuracy. You can assume perfect coverage for all parts of the assignment and no read errors for the first two questions.\n",
    "\n",
    "\n",
    "<b>Submission</b>: Please submit the code you wrote to generate your answers for all parts using this form: <a href=\"https://forms.gle/rNTXfYojTLEQ8idg6\"><em>https://forms.gle/rNTXfYojTLEQ8idg6</em></a>. Your answers should be in the Jupyter Notebook, along with your code. Before submission, you should make a copy of your notebook file with the name <i>uvaid1\\_uvaid2.ipynb</i> (where <i>uvaidn</i> is each teammates UVA id) so the submitted file identifies you. You and your partner should submit a single file once together. Submission is due 8:59 pm (EST) on Monday, September 5."
   ]
  },
  {
   "cell_type": "markdown",
   "id": "4822363e",
   "metadata": {},
   "source": [
    "## Install basic required packages."
   ]
  },
  {
   "cell_type": "markdown",
   "id": "7e31001f",
   "metadata": {},
   "source": [
    "- Install basic required packages, should be run only once. You may need to restart the kernel after this stage.\n",
    "- Make sure you have [graphviz](https://graphviz.org/download/) installed on your system.\n",
    "- The second cell adds Graphviz to your path, you may have to change based on where the install folder is.\n",
    "\n",
    "<b>NOTE: We provide utils.py, which may contain helpful functions for you to use, as well as gvmagic.py, which is a deprecated package to use graphviz within the notebook</b>"
   ]
  },
  {
   "cell_type": "code",
   "execution_count": 2,
   "id": "3cc94990",
   "metadata": {},
   "outputs": [
    {
     "name": "stdout",
     "output_type": "stream",
     "text": [
      "Requirement already satisfied: numpy in c:\\users\\basil\\proj1\\project-1-2022f\\venv\\lib\\site-packages (from -r requirements.txt (line 1)) (1.23.2)\n",
      "Requirement already satisfied: matplotlib in c:\\users\\basil\\proj1\\project-1-2022f\\venv\\lib\\site-packages (from -r requirements.txt (line 2)) (3.5.3)\n",
      "Requirement already satisfied: pydot in c:\\users\\basil\\proj1\\project-1-2022f\\venv\\lib\\site-packages (from -r requirements.txt (line 3)) (1.4.2)\n",
      "Requirement already satisfied: graphviz in c:\\users\\basil\\proj1\\project-1-2022f\\venv\\lib\\site-packages (from -r requirements.txt (line 4)) (0.20.1)\n",
      "Requirement already satisfied: pillow>=6.2.0 in c:\\users\\basil\\proj1\\project-1-2022f\\venv\\lib\\site-packages (from matplotlib->-r requirements.txt (line 2)) (9.2.0)\n",
      "Requirement already satisfied: python-dateutil>=2.7 in c:\\users\\basil\\proj1\\project-1-2022f\\venv\\lib\\site-packages (from matplotlib->-r requirements.txt (line 2)) (2.8.2)\n",
      "Requirement already satisfied: pyparsing>=2.2.1 in c:\\users\\basil\\proj1\\project-1-2022f\\venv\\lib\\site-packages (from matplotlib->-r requirements.txt (line 2)) (3.0.9)\n",
      "Requirement already satisfied: cycler>=0.10 in c:\\users\\basil\\proj1\\project-1-2022f\\venv\\lib\\site-packages (from matplotlib->-r requirements.txt (line 2)) (0.11.0)\n",
      "Requirement already satisfied: kiwisolver>=1.0.1 in c:\\users\\basil\\proj1\\project-1-2022f\\venv\\lib\\site-packages (from matplotlib->-r requirements.txt (line 2)) (1.4.4)\n",
      "Requirement already satisfied: packaging>=20.0 in c:\\users\\basil\\proj1\\project-1-2022f\\venv\\lib\\site-packages (from matplotlib->-r requirements.txt (line 2)) (21.3)\n",
      "Requirement already satisfied: fonttools>=4.22.0 in c:\\users\\basil\\proj1\\project-1-2022f\\venv\\lib\\site-packages (from matplotlib->-r requirements.txt (line 2)) (4.37.1)\n",
      "Requirement already satisfied: six>=1.5 in c:\\users\\basil\\proj1\\project-1-2022f\\venv\\lib\\site-packages (from python-dateutil>=2.7->matplotlib->-r requirements.txt (line 2)) (1.16.0)\n",
      "Note: you may need to restart the kernel to use updated packages.\n"
     ]
    }
   ],
   "source": [
    "%pip install -r requirements.txt"
   ]
  },
  {
   "cell_type": "code",
   "execution_count": 3,
   "id": "69e00fe0",
   "metadata": {},
   "outputs": [],
   "source": [
    "import os\n",
    "os.environ[\"PATH\"] += os.pathsep + 'C:/Program Files/Graphviz/bin'"
   ]
  },
  {
   "cell_type": "markdown",
   "id": "9efd1192",
   "metadata": {},
   "source": [
    "## Genome Assembly\n",
    "\n",
    "For this part, you're given reads generated while trying to sequence the DNA of a TeleTubby (some unknown organism) with a \\textit{very} small genetic code. By answering the following questions, you will learn how to assemble the original genome sequence from sequence reads.\n",
    "\n",
    "Sequencing data is often stored in FASTQ file format. In TeleTubby.fastq, you will find the data organized in a particular order that repeats every four lines. The first line contains the metadata that encodes the name of the read, the experiment type, the kind of sequencing machine used, etc. The second line is the sequence of bases. The third line functions as a placeholder line. The fourth line is a sequence of base qualities that encode the qualities for the corresponding bases in the sequence line. We will only work with the sequence and quality score lines in this question."
   ]
  },
  {
   "cell_type": "code",
   "execution_count": 4,
   "id": "2e490805",
   "metadata": {},
   "outputs": [],
   "source": [
    "import collections\n",
    "import matplotlib.pyplot as plt\n",
    "import numpy as np\n",
    "import utils\n",
    "from tqdm import tqdm"
   ]
  },
  {
   "cell_type": "markdown",
   "id": "80a7c012",
   "metadata": {},
   "source": [
    "#### Question 1.1.1 GC-content\n",
    "\n",
    "The GC-content (or the ratio of G and C nucleotides) is related to the melting temperature of the DNA double helix. Use the following equation to calculate the melting temperature of DNA for TeleTubby $t_m$ in Celsius:\n",
    "\n",
    "\\begin{equation*}\n",
    "t_m = 64.9+0.41(\\%GC)-\\frac{500}{\\text{length of sequence}}\n",
    "\\end{equation*}\n",
    "\n",
    "As a reference, the human genome is known to have between 35%-60% GC-content. "
   ]
  },
  {
   "cell_type": "code",
   "execution_count": 5,
   "id": "ffecc7f0",
   "metadata": {},
   "outputs": [
    {
     "name": "stdout",
     "output_type": "stream",
     "text": [
      "%GC content: 47.95221843003413\n",
      "Temperature: 84.34709897610922\n"
     ]
    }
   ],
   "source": [
    "# Read sequence reads (error-free) from file\n",
    "sequence_reads, qualities = utils.read_fastq('TeleTubby.fastq')\n",
    "store = collections.Counter([x for i in sequence_reads for x in i])\n",
    "# Calculate %GC content\n",
    "gc = ((store['C']+store['G'])/(store['C']+store['G']+store['A']+store['T']))*100\n",
    "print(\"%GC content:\",gc)\n",
    "# Print out temperature in Celsius\n",
    "total_len = 0\n",
    "for i in sequence_reads:\n",
    "    total_len += len(i)\n",
    "# print(total_len)\n",
    "t = 64.9 + (0.41*gc)-(500/(total_len))\n",
    "print(\"Temperature:\",t)"
   ]
  },
  {
   "cell_type": "markdown",
   "id": "560639be",
   "metadata": {},
   "source": [
    "#### Question 1.1.2 Interpreting quality scores"
   ]
  },
  {
   "cell_type": "markdown",
   "id": "4ec47f6c",
   "metadata": {},
   "source": [
    "Phred33 quality scores are represented as the character with an ASCII code equal to its value + 33 (to make them easy to print alongside genome sequences). List the top 5 most frequent scores in ASCII symbol as well as their Phredd33 scores in TeleTubby.fastq. You can refer to the [official Illumina website](https://support.illumina.com/help/BaseSpace_OLH_009008/Content/Source/Informatics/BS/QualityScoreEncoding_swBS.htm) to reference the scoring encoding.\n",
    "\n",
    "What is the average Phred33 score in TeleTubby.fastq?"
   ]
  },
  {
   "cell_type": "code",
   "execution_count": 6,
   "id": "382dcff9",
   "metadata": {},
   "outputs": [
    {
     "name": "stdout",
     "output_type": "stream",
     "text": [
      "Average Phred33 score in TeleTubby.fastq: 34.476535836177476\n"
     ]
    }
   ],
   "source": [
    "store_quality = collections.Counter([x for i in qualities for x in i])\n",
    "# print(store_quality)\n",
    "count = 0\n",
    "score = 0\n",
    "for letter in store_quality.keys():\n",
    "    q = ord(letter) - 33\n",
    "    score += q*store_quality[letter]\n",
    "    count +=(1*store_quality[letter])\n",
    "print(\"Average Phred33 score in TeleTubby.fastq:\", score/count)\n",
    "# Calculate and print average Phred33 score"
   ]
  },
  {
   "cell_type": "markdown",
   "id": "e4794c96",
   "metadata": {},
   "source": [
    "#### Question 1.1.3 Frequency analysis\n",
    "\n",
    "Looking at repetitions in the sequence can be helpful in estimating the \"redudancy\" in the organisms. Humand and other evolved animals have a lot of redundancy, while smaller organisms like bacteria have highly packed genomes. One heuristic to estimate this before actually performing the assembly could be looking at how often certain $k$-mers are repeated.\n",
    "\n",
    "<b>Print out the 3 most frequent k-mers with their frequencies</b>"
   ]
  },
  {
   "cell_type": "code",
   "execution_count": 7,
   "id": "29081fc1",
   "metadata": {},
   "outputs": [
    {
     "name": "stdout",
     "output_type": "stream",
     "text": [
      "3 Most Common: [('GCTATCGC', 3), ('CGCTATCG', 2), ('TATCGCAA', 2)]\n"
     ]
    }
   ],
   "source": [
    "k_mers = collections.Counter([i for i in sequence_reads])\n",
    "print(\"3 Most Common:\", k_mers.most_common(3))\n",
    "\n",
    "# Find and print out the three most repeated k-mers and their frequencies"
   ]
  },
  {
   "cell_type": "markdown",
   "id": "45831342",
   "metadata": {},
   "source": [
    "### Question 1.2. Greedy approach"
   ]
  },
  {
   "cell_type": "markdown",
   "id": "7f9065e0",
   "metadata": {},
   "source": [
    "One of the approaches to assemble the genome from the given reads is a greedy algorithm. Have a look at the greedy algorithm described on [Wikipedia](https://en.wikipedia.org/wiki/Sequence_assembly#Greedy_algorithm) and answer the following."
   ]
  },
  {
   "cell_type": "markdown",
   "id": "d4f23678",
   "metadata": {},
   "source": [
    "#### Question 1.2.1 What would the runtime be of this algorithm, given $n$ $k$-mer reads?"
   ]
  },
  {
   "cell_type": "markdown",
   "id": "064b091a",
   "metadata": {},
   "source": [
    "<i>Answer</i>:"
   ]
  },
  {
   "cell_type": "markdown",
   "id": "f64887cc",
   "metadata": {},
   "source": [
    "#### Question 1.2.2 Would this algorithm always yield a unique solution?"
   ]
  },
  {
   "cell_type": "markdown",
   "id": "f8cb369c",
   "metadata": {},
   "source": [
    "<i>Answer</i>:"
   ]
  },
  {
   "cell_type": "markdown",
   "id": "11d929e0",
   "metadata": {},
   "source": [
    "#### Question 1.2.3 Would this algorithm always yield the <i>right</i> solution?"
   ]
  },
  {
   "cell_type": "markdown",
   "id": "caa14b4d",
   "metadata": {},
   "source": [
    "<i>Answer</i>:"
   ]
  },
  {
   "cell_type": "markdown",
   "id": "80afb0ba",
   "metadata": {},
   "source": [
    "### Question 1.3 Graph-based approaches"
   ]
  },
  {
   "cell_type": "markdown",
   "id": "c92b0585",
   "metadata": {},
   "source": [
    "Graphs for genome assembly can be constructed in two ways:\n",
    "\n",
    "- de Bruijn graph: Processing $k-$mers as nodes, with $(k-1)-$mers as edges, and\n",
    "- Overlap graph: Processing $k-$mers as edges, with $(k-1)-$mers as nodes.\n",
    "\n",
    "de Bruijn graphs can be processed to find Euler paths, while Overlap graphs can be processed to find Hamiltonian paths. Both of these are valid ways to reconstruct the original genome.\n",
    "\n",
    "<b>Use one of these two techniques to reconstruct the sequence, and print out your reconstructed sequence. Which method did you pick out of the two, and why? (hint: imagine what would happen when we have millions of reads). Use the k-mers provided in TeleTubby.fastq</b>.\n",
    "\n",
    "We provide some skeleton code that you may use, but you may also come up with your own solution."
   ]
  },
  {
   "cell_type": "code",
   "execution_count": 11,
   "id": "ecd09f0a",
   "metadata": {},
   "outputs": [
    {
     "name": "stdout",
     "output_type": "stream",
     "text": [
      "Node:  {'ACTCGCT', 'TGTCGAG', 'ACGCCAA', 'AGTGGGA', 'CCAAACA', 'CAACTTA', 'AACTTAT', 'TTTGTGC', 'TTCTTCA', 'AAAAAAA', 'CCGCCCT', 'AGAGATT', 'ATGAGCA', 'GGGTTTT', 'AATTACA', 'GGAGCCA', 'CCAATGT', 'ATGGTAT', 'CAATGTT', 'GCCCGCC', 'GTTTCTT', 'CATCTCT', 'CGGAGGC', 'ATCGACA', 'GGTTTTG', 'TCGTGCC', 'GGAGGCG', 'GGATAAC', 'ATGGTGC', 'GGACTCT', 'AAGAGAG', 'CCGCCAA', 'GCAGGAT', 'TTCTCGT', 'ACACTCG', 'TTCATGA', 'TACGCCA', 'CCGACTG', 'TCTTTCA', 'ACTACAT', 'AGATTTG', 'TTTGTGT', 'GTGTTAG', 'GAGATTT', 'GTGCACA', 'GTGCCCG', 'AACAACT', 'TTTCTCG', 'AAGGGGT', 'AGGATAA', 'CGACATA', 'AGCAATG', 'TGGGAGT', 'CAAACAC', 'GAGGCGC', 'CCGCTAT', 'TCCGCTA', 'ACAAGAA', 'AGAAGGG', 'CCTAAGA', 'CTATCGC', 'GCATCTC', 'CTGTCAT', 'TTAGCAG', 'TGGTGCC', 'CAGGAGC', 'CTCTTTC', 'AGGCGCT', 'CGTGCCC', 'TCGAGAG', 'TCATGAG', 'AAGTGGG', 'GCTACTG', 'AGAGAGA', 'TAGCAGT', 'CAATGCG', 'CTCGTGC', 'GCAAACC', 'GAGCCAA', 'GATTTGT', 'GGTGCCG', 'CTAAGAG', 'CGCTATC', 'GAGAGAT', 'TCGGACT', 'AACCGAC', 'GCTGCCC', 'GCGCAGG', 'TACTACA', 'TCGCAAA', 'TATCGCA', 'TACATGT', 'GTCATGG', 'GGCGCTA', 'GATAACA', 'GAATTAC', 'TACAAGA', 'TCGCTGT', 'TCGCAAC', 'CCGGAGG', 'AATGTCG', 'GTACTAC', 'CGAGAGA', 'TTGTTTC', 'GTATGGT', 'GATGCAA', 'TTTTGTG', 'GACTGTC', 'TTTACAA', 'CCCTTCG', 'GCAGTTT', 'TCATGGT', 'TCGATGC', 'TGTGCTA', 'GCCGCCC', 'ATGCATC', 'GTCGGAC', 'ATATCGC', 'TGCAATG', 'GGGGTTT', 'TTCGATG', 'CTGGTGC', 'GCCAAAT', 'CTGTCGG', 'TGCCGCC', 'TATCGAC', 'TTGTGTT', 'AGGAGCC', 'TGTTGTT', 'ATGTCGA', 'TCTCTTT', 'CTACTGG', 'CTACATG', 'GAGTATG', 'CTGCCCG', 'CGCAACC', 'GGTGCAC', 'AGTTTCT', 'AACACTC', 'AACCTAA', 'ACATGTT', 'TTATGTA', 'TACTGGT', 'CGCTGCC', 'TGAGCAA', 'CAAATAG', 'CAAACCG', 'TTTCTTC', 'AGAGAAG', 'TTGTGCT', 'TACAGGA', 'TGGTGCA', 'TGCCCGC', 'ATCGCTA', 'TTCATGC', 'CTCGCTG', 'GCTATCG', 'TGCATCT', 'CACTCGC', 'GCAATGC', 'CAAAAAA', 'CGCTACT', 'ATCTCTT', 'GCAATGT', 'CGCCCTT', 'CAGTTTC', 'GCCAATG', 'TCATGCA', 'CTTTCAT', 'TGTCGGA', 'ATGTTGT', 'AGCAGTT', 'TGTTAGC', 'TGTCATG', 'GTATCGA', 'CGCCAAT', 'TTACAAG', 'GCCCTTC', 'ACTTATG', 'ATCCGCT', 'GACTCTT', 'ATTACAG', 'ATCGCAA', 'ATAGCAA', 'GTCGAGA', 'TGCACAT', 'CTTTACA', 'TATGTAC', 'ACCTAAG', 'TGTACTA', 'ACATCCG', 'TGTGTTA', 'GCACATC', 'ATGCAAT', 'ATCGCTG', 'AGAATTA', 'TATGGTG', 'CAGGATA', 'CGGACTC', 'GAAGGGG', 'CCCGCCA', 'ATGTACT', 'CTTCATG', 'GTTAGCA', 'GCAACCT', 'TAGCAAT', 'CATGCAT', 'GTTGTTT', 'CCAAATA', 'TTTCATG', 'CGACTGT', 'AAAAAGT', 'AAAGTGG', 'CGCAGGA', 'AGCCAAA', 'AAACCGA', 'TCGACAT', 'ACATATC', 'AAATAGC', 'GTTTTGT', 'GAGAGAA', 'GGAGTAT', 'CGATGCA', 'TGCTATC', 'AATAGCA', 'CATGAGC', 'ACAACTT', 'ACTGGTG', 'AGGGGTT', 'GCAAAAA', 'TAAGAGA', 'AAGAATT', 'TCTTTAC', 'ACTCTTT', 'ATTTGTG', 'GCGCTAT', 'CTTATGT', 'AATGCGC', 'ACCGACT', 'GGTATCG', 'AGCAAAA', 'GAGAAGG', 'ATGCGCA', 'CACATCC', 'TCTTCAT', 'TGCGCAG', 'CAAGAAT', 'ACTGTCG', 'CATCCGC', 'GAGCAAA', 'GTTTCTC', 'CATATCG', 'GCCAAAC', 'CGCTGTC', 'TCGCTGC', 'CAACCTA', 'GACATAT', 'AAACACT', 'CGCCAAA', 'ACAGGAG', 'GGGAGTA', 'TCGCTAC', 'ATAACAA', 'AAAAGTG', 'TATCGCT', 'AAAAAAG', 'CATGGTA', 'GTGCCGC', 'TCTCGTG', 'GTGCTAT', 'TGCCCGG', 'CTTCGAT', 'GCCCGGA', 'CCCGGAG', 'CATGTTG', 'AGTATGG', 'CAATGTC', 'TTACAGG', 'GTGGGAG', 'TAACAAC', 'TGTTTCT', 'CGCAAAC', 'CCTTCGA', 'CTCTTTA', 'GCTGTCA', 'TGGTATC'}\n",
      "Edges:  ['TTACAAGA', 'TCATGCAT', 'AGGCGCTA', 'CGGACTCT', 'TTTCATGA', 'GCGCTATC', 'CGACTGTC', 'ATCGCAAC', 'TCGCTGCC', 'CGCAAACC', 'CAAGAATT', 'GTCGGACT', 'CCGCCCTT', 'CGAGAGAT', 'GAGGCGCT', 'TTGTGCTA', 'GGGAGTAT', 'GTTAGCAG', 'TGTCGGAC', 'CCCGGAGG', 'GCACATCC', 'AGGGGTTT', 'CGCTATCG', 'TAACAACT', 'TGGTGCCG', 'GTGCTATC', 'CGACATAT', 'TTCATGAG', 'AGTGGGAG', 'TACGCCAA', 'TTGTTTCT', 'GATGCAAT', 'CGCAGGAT', 'CTAAGAGA', 'TAGCAATG', 'ATAGCAAT', 'GGAGTATG', 'CCAAACAC', 'GCTGCCCG', 'AAATAGCA', 'GCAGGATA', 'TATCGACA', 'CTTTACAA', 'TAAGAGAG', 'TCTTTCAT', 'CAAACCGA', 'ATGGTGCA', 'TGGGAGTA', 'TCTTTACA', 'TTACAGGA', 'TGTTTCTC', 'GATTTGTG', 'ACTTATGT', 'GTTGTTTC', 'TGCCCGGA', 'CTGCCCGG', 'GGAGGCGC', 'AAACACTC', 'GCTATCGC', 'GGGTTTTG', 'TGCCCGCC', 'TCATGGTA', 'TATCGCTG', 'TGGTATCG', 'GACATATC', 'ATAACAAC', 'GTATCGAC', 'AGATTTGT', 'CCGACTGT', 'CGCTGCCC', 'ACCGACTG', 'GCAACCTA', 'CGCAACCT', 'ATGAGCAA', 'GATAACAA', 'TGTACTAC', 'CATCCGCT', 'TGCGCAGG', 'TACAGGAG', 'CTTATGTA', 'TACTACAT', 'ATCGCTAC', 'CTACTGGT', 'TACAAGAA', 'GTTTCTTC', 'GCCCTTCG', 'AGCAAAAA', 'TATGTACT', 'ATCGCAAA', 'CAAACACT', 'CCTTCGAT', 'GGTTTTGT', 'GAATTACA', 'TATCGCAA', 'CTACATGT', 'TATCGCTA', 'CGCCAAAT', 'TCGCTGTC', 'ATGTACTA', 'ACAAGAAT', 'CTATCGCA', 'GTACTACA', 'GTGCACAT', 'TGTCATGG', 'GAGAGATT', 'CTTTCATG', 'ACTACATG', 'CGCTATCG', 'TCGTGCCC', 'CAGGAGCC', 'GTGCCCGC', 'ACATCCGC', 'TTCGATGC', 'GCTATCGC', 'ATCGCTGC', 'GCAATGCG', 'AGCCAAAC', 'CATGTTGT', 'GCTACTGG', 'TCGAGAGA', 'AAGAGAGA', 'TCATGAGC', 'GTGTTAGC', 'CAATGTCG', 'GAGATTTG', 'CATGGTAT', 'GAGAAGGG', 'AATGTCGA', 'GGTGCCGC', 'CTGTCGGA', 'TAGCAGTT', 'CAACTTAT', 'ACTGGTGC', 'CCGGAGGC', 'CACTCGCT', 'CTCTTTCA', 'TTCATGCA', 'ACATATCG', 'GCGCAGGA', 'TCTCGTGC', 'TTCTTCAT', 'AAGAATTA', 'ATGTTGTT', 'GTTTCTCG', 'CAGTTTCT', 'ACAGGAGC', 'TATCGCAA', 'GGTATCGA', 'GCCAAATA', 'GAGAGAAG', 'TGTTAGCA', 'TGCATCTC', 'GGAGCCAA', 'GAAGGGGT', 'TTTGTGCT', 'CGCTGTCA', 'GGACTCTT', 'TTTGTGTT', 'CTTCGATG', 'TGCCGCCC', 'CCTAAGAG', 'ATGTCGAG', 'GTGCCGCC', 'CGGAGGCG', 'GACTCTTT', 'AACAACTT', 'AAAAAAGT', 'TATGGTGC', 'GCCGCCCT', 'GCCCGGAG', 'AACCGACT', 'TACTGGTG', 'ACAACTTA', 'CAATGCGC', 'GGCGCTAT', 'GACTGTCG', 'ATCTCTTT', 'GCCAAACA', 'AGCAATGC', 'CAACCTAA', 'TGCACATC', 'ATCCGCTA', 'AAGTGGGA', 'AGAGAAGG', 'CCCTTCGA', 'GTTTTGTG', 'GCAGTTTC', 'AATAGCAA', 'TCGCAAAC', 'CGCCAATG', 'CATGAGCA', 'GCATCTCT', 'CTGTCATG', 'GGATAACA', 'CGATGCAA', 'GCCAATGT', 'GAGCCAAA', 'AGTTTCTT', 'CGCTACTG', 'TGCTATCG', 'TACATGTT', 'AGAAGGGG', 'GCTGTCAT', 'CTCGCTGT', 'CCAATGTC', 'CAAATAGC', 'ACCTAAGA', 'GCAATGTT', 'AAAAAAAG', 'ATTACAGG', 'TCTCTTTA', 'CAGGATAA', 'TGAGCAAA', 'CGTGCCCG', 'ACATGTTG', 'AGCAGTTT', 'AGGAGCCA', 'ATGCATCT', 'AAACCGAC', 'AATGCGCA', 'ACTGTCGG', 'AGAATTAC', 'ATATCGCT', 'GCTATCGC', 'CCGCCAAT', 'CCCGCCAA', 'GAGTATGG', 'AGGATAAC', 'AACTTATG', 'TTATGTAC', 'CATGCATC', 'CACATCCG', 'CATCTCTT', 'TTTTGTGT', 'TTTCTCGT', 'CAAAAAAA', 'CTATCGCT', 'CATATCGC', 'TTAGCAGT', 'TGGTGCAC', 'ATCGACAT', 'CTATCGCA', 'AACCTAAG', 'TTTACAAG', 'TGTCGAGA', 'ATGCGCAG', 'TCCGCTAT', 'TGTTGTTT', 'TGTGTTAG', 'CTCGTGCC', 'TGCAATGT', 'GGTGCACA', 'CTTCATGC', 'CTCTTTAC', 'ATTTGTGC', 'TCGACATA', 'CGCCCTTC', 'AACACTCG', 'TCGCAACC', 'GTATGGTG', 'AAAAGTGG', 'GTGGGAGT', 'ACTCTTTC', 'ACGCCAAA', 'ACACTCGC', 'AGTATGGT', 'CTGGTGCC', 'GGGGTTTT', 'AAAAAGTG', 'GTCGAGAG', 'ACTCGCTG', 'AAAGTGGG', 'CCGCTATC', 'TTCTCGTG', 'ATGGTATC', 'TCGCTACT', 'GAGCAAAA', 'TCTTCATG', 'TGTGCTAT', 'AATTACAG', 'TCGATGCA', 'ATGCAATG', 'TTTCTTCA', 'TTGTGTTA', 'GCAAAAAA', 'AGAGAGAA', 'TCGGACTC', 'AGAGATTT', 'GCCCGCCA', 'GTCATGGT', 'AAGGGGTT', 'GCAAACCG', 'CCAAATAG']\n"
     ]
    }
   ],
   "source": [
    "# Read reads into graph\n",
    "# de bruijn graph - list items as nodes and (k-1)-mers as edges. For a huge list overlap would be bad since there would be n*(len(l))\n",
    "\n",
    "def build_graph(k_mers):\n",
    "    num = len(k_mers[0])\n",
    "    edges = []\n",
    "    \n",
    "    nodes = set()\n",
    "    for st in k_mers:\n",
    "        i = 0\n",
    "        while i +num <= len(st):\n",
    "            sub = st[i:i+num]\n",
    "            edges.append(sub)\n",
    "            i+=1\n",
    "    #     print(*edges)\n",
    "        j = 0\n",
    "        while j+num-1 <= len(st):\n",
    "            sub = st[j:j+(num-1)]\n",
    "            nodes.add(sub)\n",
    "            j+=1\n",
    "#     print(*nodes)\n",
    "    # Your code here\n",
    "    return nodes, edges\n",
    "\n",
    "nodes, edges = build_graph(sequence_reads)\n",
    "print(\"Node: \",nodes)\n",
    "print(\"Edges: \", edges)"
   ]
  },
  {
   "cell_type": "code",
   "execution_count": null,
   "id": "673fa392",
   "metadata": {},
   "outputs": [],
   "source": [
    "# Implement assembly algorithm"
   ]
  },
  {
   "cell_type": "code",
   "execution_count": null,
   "id": "bb2b4eaf",
   "metadata": {},
   "outputs": [],
   "source": [
    "# Print assembled sequence"
   ]
  },
  {
   "cell_type": "code",
   "execution_count": null,
   "id": "3aed4102",
   "metadata": {},
   "outputs": [],
   "source": [
    "# Needed to properly visualize graphs\n",
    "%load_ext gvmagic"
   ]
  },
  {
   "cell_type": "code",
   "execution_count": null,
   "id": "90922efd",
   "metadata": {},
   "outputs": [],
   "source": [
    "# Helper function to visualize de Bruijn graphs\n",
    "%dotstr utils.viz_debruijn(nodes_bruijn, edges_bruijn)"
   ]
  },
  {
   "cell_type": "code",
   "execution_count": null,
   "id": "d17adf35",
   "metadata": {},
   "outputs": [],
   "source": [
    "# Main assembly algorithm\n",
    "\n",
    "def assemble_sequence(nodes, edges):\n",
    "    assembled_sequence = \"\"\n",
    "    # Your code here\n",
    "    return assembled_sequence"
   ]
  },
  {
   "cell_type": "code",
   "execution_count": null,
   "id": "3a28b8f3",
   "metadata": {},
   "outputs": [],
   "source": [
    "# Output assembled sequence\n",
    "\n",
    "assmebled_seq = assemble_sequence(nodes, edges)"
   ]
  },
  {
   "cell_type": "markdown",
   "id": "1a19b6bb",
   "metadata": {},
   "source": [
    "## Question 2 - Sequencing SARS-CoV-2 virus"
   ]
  },
  {
   "cell_type": "markdown",
   "id": "d1e34a16",
   "metadata": {},
   "source": [
    "Let's move on from TeleTubbies to real-world organisms. Let's start small- with a variant of the SARS-CoV-2 virus. You're given reads from <i>actual</i> genome sequencing runs in the SARS-CoV2.fastq file provided.\n",
    "\n",
    "Repeat Question 1.3 on this data. You can re-use your implementation and simply run it on the new data. Print out your reconstructed sequence to a file \"output.txt\". For this part, we will still assume that all the reads are error-free. Set $k=25$."
   ]
  },
  {
   "cell_type": "code",
   "execution_count": null,
   "id": "3b0467a2",
   "metadata": {},
   "outputs": [],
   "source": [
    "# Read sequence reads\n",
    "sequence_reads_covid, qualities_covid = utils.read_fastq('SARS-CoV2.fastq')"
   ]
  },
  {
   "cell_type": "code",
   "execution_count": null,
   "id": "499f6e13",
   "metadata": {},
   "outputs": [],
   "source": [
    "# Read reads into graph\n",
    "nodes_covid, edges_covid = build_graph(sequence_reads_covid)"
   ]
  },
  {
   "cell_type": "code",
   "execution_count": null,
   "id": "8d566d32",
   "metadata": {},
   "outputs": [],
   "source": [
    "# Call main assembly algorithm\n",
    "assmebled_covid_seq = assemble_sequence(nodes_covid, edges_covid)"
   ]
  },
  {
   "cell_type": "code",
   "execution_count": null,
   "id": "2f90f355",
   "metadata": {},
   "outputs": [],
   "source": [
    "# Write assembled sequence to file\n",
    "\n",
    "assmebled_seq = \"\" # Use your assembled genome\n",
    "with open(\"covid_overlap.txt\", \"w\") as f:\n",
    "    f.write(assmebled_seq)"
   ]
  },
  {
   "cell_type": "markdown",
   "id": "ebdc58b9",
   "metadata": {},
   "source": [
    "# Question 3- Error-Aware Assembly (Extra Credit)"
   ]
  },
  {
   "cell_type": "markdown",
   "id": "d9412818",
   "metadata": {},
   "source": [
    "In the parts above, we assumed error-free reads while assembling $k$-mers. As much as we'd like that, actual reads can (and do) have errors, captured by their Phred scores. For this question, you're given raw, actual reads from sequencing runs (download reads here: https://sra-pub-sars-cov2.s3.amazonaws.com/sra-src/SRR11528307/ABS2-LN-R1_cleaned_paired.fastq.gz).  Given these reads and their Phred33 scores, can you assemble the genome?\n",
    "\n",
    "<b>Print out your assembled sequence, along with a brief explanation of how your algorithm works</b>\n",
    "\n",
    "This is an open-ended question. You are free to use any approach to deal with the issue. Make sure you provide your code, along with any assumptions you may have, in the cells below."
   ]
  },
  {
   "cell_type": "code",
   "execution_count": null,
   "id": "3d1856dd",
   "metadata": {},
   "outputs": [],
   "source": []
  },
  {
   "cell_type": "code",
   "execution_count": null,
   "id": "45b79a5d",
   "metadata": {},
   "outputs": [],
   "source": []
  }
 ],
 "metadata": {
  "kernelspec": {
   "display_name": "Python 3 (ipykernel)",
   "language": "python",
   "name": "python3"
  },
  "language_info": {
   "codemirror_mode": {
    "name": "ipython",
    "version": 3
   },
   "file_extension": ".py",
   "mimetype": "text/x-python",
   "name": "python",
   "nbconvert_exporter": "python",
   "pygments_lexer": "ipython3",
   "version": "3.9.13"
  }
 },
 "nbformat": 4,
 "nbformat_minor": 5
}
