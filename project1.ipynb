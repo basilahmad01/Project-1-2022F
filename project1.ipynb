{
 "cells": [
  {
   "cell_type": "markdown",
   "id": "6144a167",
   "metadata": {},
   "source": [
    "# Project 1: Assembling Genes"
   ]
  },
  {
   "cell_type": "markdown",
   "id": "eb234718",
   "metadata": {},
   "source": [
    "   <div class=\"alert alert-block alert-danger\">\n",
    "    <center>Due: <b>Monday, September 5, 8:59pm</b>.</center> \n",
    "   </div>\n",
    "   \n",
    "   <div class=\"alert alert-block alert-warning\">\n",
    "   <center>\n",
    "       <b>Collaboration and Resource Policy</b>\n",
    "    </center>\n",
    "    \n",
    "For this assignment, you are encouraged to work with one other person satisfying the constraints from Class 2. \n",
    "You are permitted (actually _encouraged_) to discuss these problems with anyone you want, including other students in the class. If you do discuss the specific questions in the assignment with anyone other than your assignment partner and the course staff, though, you should list them in the _External resources used_ section below.\n",
    "    \n",
    "You are welcome to use any resources you want for this assignment, other than ones that would defeat the purpose of the assignment. This means you should not look at answers or code from previous semesters of this course, or from any other students in the class (other than your collaboration with your partner), and if you find code that implements the problem you are being asked to do for the assignment, you should not use that code. You should document all external resource you use that are not part of the course materials in the _External resources used_ section below.\n",
    "    </div>"
   ]
  },
  {
   "cell_type": "markdown",
   "id": "f16314b1",
   "metadata": {},
   "source": [
    "**Team submitting this assignment:**  \n",
    "<div class=\"alert alert-success\">\n",
    "    <b><em>list each member of your team here, including both your name and UVA computing id</em></b>\n",
    "\n",
    "Team Members (Names):  Syed Ahmad\n",
    "\n",
    "Team Member UVA Computing IDs:sba5k\n",
    "\n",
    "</div>\n",
    "\n",
    "**External resources used:** \n",
    "<div class=\"alert alert-success\">\n",
    "<em>It is not necessary to list the course materials, but if you used any other resources, including discussing problems with students not on your team, list them here.</em>\n",
    "    \n",
    "External Resources Used:\n",
    "\n",
    "</div>"
   ]
  },
  {
   "cell_type": "markdown",
   "id": "58f85efb",
   "metadata": {},
   "source": [
    "In this project, we will explore genome assembly—the process of determining the order of nucleotides in DNA from fragmented reads. As you might have studied in the reading assignments, genome assembly can get quite complicated, as problems such as full sequence coverage, finding a good length for reads (the $k$ in $k$-mer), and sequencing errors present challenges for sequencing analysis and accuracy. You can assume perfect coverage for all parts of the assignment and no read errors for the first two questions.\n",
    "\n",
    "\n",
    "<b>Submission</b>: Please submit the code you wrote to generate your answers for all parts using this form: <a href=\"https://forms.gle/rNTXfYojTLEQ8idg6\"><em>https://forms.gle/rNTXfYojTLEQ8idg6</em></a>. Your answers should be in the Jupyter Notebook, along with your code. Before submission, you should make a copy of your notebook file with the name <i>uvaid1\\_uvaid2.ipynb</i> (where <i>uvaidn</i> is each teammates UVA id) so the submitted file identifies you. You and your partner should submit a single file once together. Submission is due 8:59 pm (EST) on Monday, September 5."
   ]
  },
  {
   "cell_type": "markdown",
   "id": "4822363e",
   "metadata": {},
   "source": [
    "## Install basic required packages."
   ]
  },
  {
   "cell_type": "markdown",
   "id": "7e31001f",
   "metadata": {},
   "source": [
    "- Install basic required packages, should be run only once. You may need to restart the kernel after this stage.\n",
    "- Make sure you have [graphviz](https://graphviz.org/download/) installed on your system.\n",
    "- The second cell adds Graphviz to your path, you may have to change based on where the install folder is.\n",
    "\n",
    "<b>NOTE: We provide utils.py, which may contain helpful functions for you to use, as well as gvmagic.py, which is a deprecated package to use graphviz within the notebook</b>"
   ]
  },
  {
   "cell_type": "code",
   "execution_count": 1,
   "id": "3cc94990",
   "metadata": {},
   "outputs": [
    {
     "name": "stdout",
     "output_type": "stream",
     "text": [
      "Requirement already satisfied: numpy in c:\\users\\basil\\proj1\\project-1-2022f\\venv\\lib\\site-packages (from -r requirements.txt (line 1)) (1.23.2)\n",
      "Requirement already satisfied: matplotlib in c:\\users\\basil\\proj1\\project-1-2022f\\venv\\lib\\site-packages (from -r requirements.txt (line 2)) (3.5.3)\n",
      "Requirement already satisfied: pydot in c:\\users\\basil\\proj1\\project-1-2022f\\venv\\lib\\site-packages (from -r requirements.txt (line 3)) (1.4.2)\n",
      "Requirement already satisfied: graphviz in c:\\users\\basil\\proj1\\project-1-2022f\\venv\\lib\\site-packages (from -r requirements.txt (line 4)) (0.20.1)\n",
      "Requirement already satisfied: cycler>=0.10 in c:\\users\\basil\\proj1\\project-1-2022f\\venv\\lib\\site-packages (from matplotlib->-r requirements.txt (line 2)) (0.11.0)\n",
      "Requirement already satisfied: kiwisolver>=1.0.1 in c:\\users\\basil\\proj1\\project-1-2022f\\venv\\lib\\site-packages (from matplotlib->-r requirements.txt (line 2)) (1.4.4)\n",
      "Requirement already satisfied: pillow>=6.2.0 in c:\\users\\basil\\proj1\\project-1-2022f\\venv\\lib\\site-packages (from matplotlib->-r requirements.txt (line 2)) (9.2.0)\n",
      "Requirement already satisfied: packaging>=20.0 in c:\\users\\basil\\proj1\\project-1-2022f\\venv\\lib\\site-packages (from matplotlib->-r requirements.txt (line 2)) (21.3)\n",
      "Requirement already satisfied: fonttools>=4.22.0 in c:\\users\\basil\\proj1\\project-1-2022f\\venv\\lib\\site-packages (from matplotlib->-r requirements.txt (line 2)) (4.37.1)\n",
      "Requirement already satisfied: python-dateutil>=2.7 in c:\\users\\basil\\proj1\\project-1-2022f\\venv\\lib\\site-packages (from matplotlib->-r requirements.txt (line 2)) (2.8.2)\n",
      "Requirement already satisfied: pyparsing>=2.2.1 in c:\\users\\basil\\proj1\\project-1-2022f\\venv\\lib\\site-packages (from matplotlib->-r requirements.txt (line 2)) (3.0.9)\n",
      "Requirement already satisfied: six>=1.5 in c:\\users\\basil\\proj1\\project-1-2022f\\venv\\lib\\site-packages (from python-dateutil>=2.7->matplotlib->-r requirements.txt (line 2)) (1.16.0)\n",
      "Note: you may need to restart the kernel to use updated packages.\n"
     ]
    }
   ],
   "source": [
    "%pip install -r requirements.txt"
   ]
  },
  {
   "cell_type": "code",
   "execution_count": 2,
   "id": "69e00fe0",
   "metadata": {},
   "outputs": [],
   "source": [
    "import os\n",
    "os.environ[\"PATH\"] += os.pathsep + 'C:/Program Files/Graphviz/bin'"
   ]
  },
  {
   "cell_type": "markdown",
   "id": "9efd1192",
   "metadata": {},
   "source": [
    "## Genome Assembly\n",
    "\n",
    "For this part, you're given reads generated while trying to sequence the DNA of a TeleTubby (some unknown organism) with a \\textit{very} small genetic code. By answering the following questions, you will learn how to assemble the original genome sequence from sequence reads.\n",
    "\n",
    "Sequencing data is often stored in FASTQ file format. In TeleTubby.fastq, you will find the data organized in a particular order that repeats every four lines. The first line contains the metadata that encodes the name of the read, the experiment type, the kind of sequencing machine used, etc. The second line is the sequence of bases. The third line functions as a placeholder line. The fourth line is a sequence of base qualities that encode the qualities for the corresponding bases in the sequence line. We will only work with the sequence and quality score lines in this question."
   ]
  },
  {
   "cell_type": "code",
   "execution_count": 3,
   "id": "2e490805",
   "metadata": {},
   "outputs": [],
   "source": [
    "import collections\n",
    "import matplotlib.pyplot as plt\n",
    "import numpy as np\n",
    "import utils\n",
    "from tqdm import tqdm"
   ]
  },
  {
   "cell_type": "markdown",
   "id": "80a7c012",
   "metadata": {},
   "source": [
    "#### Question 1.1.1 GC-content\n",
    "\n",
    "The GC-content (or the ratio of G and C nucleotides) is related to the melting temperature of the DNA double helix. Use the following equation to calculate the melting temperature of DNA for TeleTubby $t_m$ in Celsius:\n",
    "\n",
    "\\begin{equation*}\n",
    "t_m = 64.9+0.41(\\%GC)-\\frac{500}{\\text{length of sequence}}\n",
    "\\end{equation*}\n",
    "\n",
    "As a reference, the human genome is known to have between 35%-60% GC-content. "
   ]
  },
  {
   "cell_type": "code",
   "execution_count": 4,
   "id": "ffecc7f0",
   "metadata": {},
   "outputs": [
    {
     "name": "stdout",
     "output_type": "stream",
     "text": [
      "%GC content: 47.95221843003413\n",
      "Temperature: 84.34709897610922\n"
     ]
    }
   ],
   "source": [
    "# Read sequence reads (error-free) from file\n",
    "sequence_reads, qualities = utils.read_fastq('TeleTubby.fastq')\n",
    "# print(sequence_reads)\n",
    "store = collections.Counter([x for i in sequence_reads for x in i])\n",
    "# Calculate %GC content\n",
    "gc = ((store['C']+store['G'])/(store['C']+store['G']+store['A']+store['T']))*100\n",
    "print(\"%GC content:\",gc)\n",
    "# Print out temperature in Celsius\n",
    "total_len = 0\n",
    "for i in sequence_reads:\n",
    "    total_len += len(i)\n",
    "# print(total_len)\n",
    "t = 64.9 + (0.41*gc)-(500/(total_len))\n",
    "print(\"Temperature:\",t)"
   ]
  },
  {
   "cell_type": "markdown",
   "id": "560639be",
   "metadata": {},
   "source": [
    "#### Question 1.1.2 Interpreting quality scores"
   ]
  },
  {
   "cell_type": "markdown",
   "id": "4ec47f6c",
   "metadata": {},
   "source": [
    "Phred33 quality scores are represented as the character with an ASCII code equal to its value + 33 (to make them easy to print alongside genome sequences). List the top 5 most frequent scores in ASCII symbol as well as their Phredd33 scores in TeleTubby.fastq. You can refer to the [official Illumina website](https://support.illumina.com/help/BaseSpace_OLH_009008/Content/Source/Informatics/BS/QualityScoreEncoding_swBS.htm) to reference the scoring encoding.\n",
    "\n",
    "What is the average Phred33 score in TeleTubby.fastq?"
   ]
  },
  {
   "cell_type": "code",
   "execution_count": 5,
   "id": "382dcff9",
   "metadata": {},
   "outputs": [
    {
     "name": "stdout",
     "output_type": "stream",
     "text": [
      "Average Phred33 score in TeleTubby.fastq: 34.476535836177476\n",
      "ASCII:FREQ\n",
      "5 : 96 Phredd33: 20\n",
      "? : 95 Phredd33: 30\n",
      "D : 95 Phredd33: 35\n",
      "K : 90 Phredd33: 42\n",
      "F : 88 Phredd33: 37\n"
     ]
    }
   ],
   "source": [
    "store_quality = collections.Counter([x for i in qualities for x in i])\n",
    "# print(store_quality)\n",
    "count = 0\n",
    "score = 0\n",
    "for letter in store_quality.keys():\n",
    "    q = ord(letter) - 33\n",
    "    score += q*store_quality[letter]\n",
    "    count +=(1*store_quality[letter])\n",
    "print(\"Average Phred33 score in TeleTubby.fastq:\", score/count)\n",
    "# Calculate and print average Phred33 score\n",
    "qual = (store_quality.most_common(5))\n",
    "print(\"ASCII:FREQ\")\n",
    "for i in qual:\n",
    "    print(i[0],\":\",i[1] , \"Phredd33:\", ord(i[0])-33,)"
   ]
  },
  {
   "cell_type": "markdown",
   "id": "e4794c96",
   "metadata": {},
   "source": [
    "#### Question 1.1.3 Frequency analysis\n",
    "\n",
    "Looking at repetitions in the sequence can be helpful in estimating the \"redudancy\" in the organisms. Humand and other evolved animals have a lot of redundancy, while smaller organisms like bacteria have highly packed genomes. One heuristic to estimate this before actually performing the assembly could be looking at how often certain $k$-mers are repeated.\n",
    "\n",
    "<b>Print out the 3 most frequent k-mers with their frequencies</b>"
   ]
  },
  {
   "cell_type": "code",
   "execution_count": 6,
   "id": "29081fc1",
   "metadata": {},
   "outputs": [
    {
     "name": "stdout",
     "output_type": "stream",
     "text": [
      "3 Most Common: [('GCTATCGC', 3), ('CGCTATCG', 2), ('TATCGCAA', 2)]\n"
     ]
    }
   ],
   "source": [
    "com = collections.Counter([i for i in sequence_reads])\n",
    "print(\"3 Most Common:\", com.most_common(3))\n",
    "\n",
    "# Find and print out the three most repeated k-mers and their frequencies"
   ]
  },
  {
   "cell_type": "markdown",
   "id": "45831342",
   "metadata": {},
   "source": [
    "### Question 1.2. Greedy approach"
   ]
  },
  {
   "cell_type": "markdown",
   "id": "7f9065e0",
   "metadata": {},
   "source": [
    "One of the approaches to assemble the genome from the given reads is a greedy algorithm. Have a look at the greedy algorithm described on [Wikipedia](https://en.wikipedia.org/wiki/Sequence_assembly#Greedy_algorithm) and answer the following."
   ]
  },
  {
   "cell_type": "markdown",
   "id": "d4f23678",
   "metadata": {},
   "source": [
    "#### Question 1.2.1 What would the runtime be of this algorithm, given $n$ $k$-mer reads?"
   ]
  },
  {
   "cell_type": "markdown",
   "id": "064b091a",
   "metadata": {},
   "source": [
    "<i>Answer</i>: It will require n^2, alignment will require n^2 time with a double for loop with n time to merge the best overlap."
   ]
  },
  {
   "cell_type": "markdown",
   "id": "f64887cc",
   "metadata": {},
   "source": [
    "#### Question 1.2.2 Would this algorithm always yield a unique solution?"
   ]
  },
  {
   "cell_type": "markdown",
   "id": "f8cb369c",
   "metadata": {},
   "source": [
    "<i>Answer</i>: This algorithm will not always provide a unique solution. In the case where there are 2 equally optimal merges the algorithm could do and get an equally optimal/\"right\" solution, there would be more than 1 solution to the inputs of the algorithm."
   ]
  },
  {
   "cell_type": "markdown",
   "id": "11d929e0",
   "metadata": {},
   "source": [
    "#### Question 1.2.3 Would this algorithm always yield the <i>right</i> solution?"
   ]
  },
  {
   "cell_type": "markdown",
   "id": "caa14b4d",
   "metadata": {},
   "source": [
    "<i>Answer</i>: The greedy approach will always yield the right solution even if it is not the best solution and most optimal solution. The Wikipedia page here (https://en.wikipedia.org/wiki/Greedy_algorithm) says it can produce the \"unique worst possible\". This is helpful because it will allow it to give us a solution in a short amount of time rather then going through all possible iterations."
   ]
  },
  {
   "cell_type": "markdown",
   "id": "80afb0ba",
   "metadata": {},
   "source": [
    "### Question 1.3 Graph-based approaches"
   ]
  },
  {
   "cell_type": "markdown",
   "id": "c92b0585",
   "metadata": {},
   "source": [
    "Graphs for genome assembly can be constructed in two ways:\n",
    "\n",
    "- de Bruijn graph: Processing $k-$mers as nodes, with $(k-1)-$mers as edges, and\n",
    "- Overlap graph: Processing $k-$mers as edges, with $(k-1)-$mers as nodes.\n",
    "\n",
    "de Bruijn graphs can be processed to find Euler paths, while Overlap graphs can be processed to find Hamiltonian paths. Both of these are valid ways to reconstruct the original genome.\n",
    "\n",
    "<b>Use one of these two techniques to reconstruct the sequence, and print out your reconstructed sequence. Which method did you pick out of the two, and why? (hint: imagine what would happen when we have millions of reads). Use the k-mers provided in TeleTubby.fastq</b>.\n",
    "\n",
    "We provide some skeleton code that you may use, but you may also come up with your own solution."
   ]
  },
  {
   "cell_type": "code",
   "execution_count": 7,
   "id": "ecd09f0a",
   "metadata": {},
   "outputs": [],
   "source": [
    "# Read reads into graph\n",
    "# de bruijn graph - list items as nodes and (k-1)-mers as edges. For a huge list overlap would be bad since there would be n*(len(l))\n",
    "def build_graphbad(k_mers):\n",
    "    k = len(k_mers[0])\n",
    "    edges = []\n",
    "    nodes = set()\n",
    "    # Your code here\n",
    "    for kmer in k_mers:\n",
    "# #         edges.append(kmer)\n",
    "        edges.append((kmer[0:k-1],kmer[1:k]))\n",
    "        nodes.add(kmer[0:k-1])\n",
    "        nodes.add(kmer[1:k])\n",
    "    return nodes, edges\n",
    "def build_graph(kmers):\n",
    "    k = len(kmers[0])\n",
    "    graph = {}\n",
    "    for i in range(len(kmers)):\n",
    "        try:\n",
    "            graph[kmers[i][:-1]].append(kmers[i][1:])\n",
    "        except:\n",
    "            graph[kmers[i][:-1]] = [kmers[i][1:]]\n",
    "    return graph\n",
    "\n",
    "def get_first(seq_r):\n",
    "    lpos = len(seq_r[0])-2     \n",
    "    i=0            \n",
    "    tot_iadj = len(seq_r)\n",
    "    pos =1\n",
    "    try:\n",
    "        while (1<tot_iadj):\n",
    "            ia = seq_r[i]\n",
    "            end_ia = ia[pos:len(ia)]\n",
    "            match=False\n",
    "            for j,ja in enumerate(seq_r):\n",
    "                sta_ja = ja[0:len(ia)-pos]\n",
    "                if (end_ia==sta_ja and ja != ia and len(end_ia)>lpos):\n",
    "                    seq_r.remove(ja)\n",
    "                    seq_r.remove(ia)\n",
    "                    seq_r.append(ia +  ja[len(sta_ja):len(ja)])\n",
    "                    i=-1\n",
    "                    tot_iadj = len(seq_r)\n",
    "                    match=True\n",
    "                    pos = 1\n",
    "                    break\n",
    "            if(not match):\n",
    "                pos+=1\n",
    "                if (len(end_ia)==0):\n",
    "                    i+=1\n",
    "                    pos=1\n",
    "            else:\n",
    "                i+=1\n",
    "        for i,d in enumerate(seq_r):\n",
    "           print(d)\n",
    "    except:\n",
    "        return seq_r\n",
    "graph = build_graph(sequence_reads)\n",
    "zz = get_first(sequence_reads)\n",
    "index = 0\n",
    "max_len = 0\n",
    "for i in range(len(zz)):\n",
    "    if len(zz[i]) > max_len:\n",
    "        index = i\n",
    "        max_len = len(zz[i])\n",
    "key1 = zz[index][:7]"
   ]
  },
  {
   "cell_type": "code",
   "execution_count": 8,
   "id": "673fa392",
   "metadata": {},
   "outputs": [],
   "source": [
    "# Implement assembly algorithm\n",
    "# print(find_eulerian_tour(graph))\n",
    "def EulerCycleSolve1(graph, key):\n",
    "    path = []\n",
    "#     key = np.random.choice(list(graph.keys()))\n",
    "    key = key\n",
    "    while len(graph[key]) == 0:\n",
    "        key = np.random.choice(list(graph.keys()))\n",
    "    path.append(key)\n",
    "    while len(graph.values()) != 0:\n",
    "        value = np.random.choice(graph[key])\n",
    "        graph[key].remove(value)\n",
    "        key = value\n",
    "        path.append(key)\n",
    "\n",
    "        while len(graph.keys()) != 0 and key not in graph.keys():\n",
    "            key = np.random.choice(list(graph.keys()))\n",
    "        while len(graph[key]) == 0:\n",
    "            if len(graph.keys()) <= 1:\n",
    "                return path\n",
    "            graph.pop(key)\n",
    "            key = np.random.choice(list(graph.keys()))\n",
    "    return path"
   ]
  },
  {
   "cell_type": "code",
   "execution_count": 9,
   "id": "bb2b4eaf",
   "metadata": {},
   "outputs": [
    {
     "name": "stdout",
     "output_type": "stream",
     "text": [
      "300\n",
      "TACGCCAAATAGCAATGCGCAGGATAACAACTTATGTACTACATGTTGTTTCTCGTGCCCGCCAATGTCGAGAGATTTGTGCTATCGCAACCTAAGAGAGAAGGGGTTTTGTGTTAGCAGTTTCTTCATGCATCTCTTTACAAGAATTACAGGAGCCAAACACTCGCTGTCATGGTATCGACATATCGCTGCCCGGAGGCGCTATCGCTACTGGTGCCGCCCTTCGATGCAATGTTAGCAAAAAAAGTGGGAGTATGGTGCACATCCGCTATCGCAAACCGACTGTCGGACTCTTTCATG\n"
     ]
    }
   ],
   "source": [
    "# Print assembled sequence\n",
    "# print(assemble(nod,edg))\n",
    "# def assembledSequenceMaker(path):  \n",
    "#     s = path[0]\n",
    "#     for i in range(1, len(path)):\n",
    "#         s += path[i][-1]\n",
    "#     return s\n",
    "complete = EulerCycleSolve1(graph,key1)\n",
    "# sequence = assembledSequenceMaker(full)# s = euler[0]\n",
    "def assembledSequenceMaker(complete):\n",
    "    \n",
    "    seq = complete[0]\n",
    "    for i in range(1, len(complete)):\n",
    "        seq += complete[i][-1]\n",
    "    return seq\n",
    "\n",
    "seq = assembledSequenceMaker(complete)\n",
    "print(len(seq))\n",
    "print(seq)\n",
    "# for i in range(1,len(euler)):\n",
    "#     s += euler[i]\n",
    "# print(s)\n",
    "# print(sequence)"
   ]
  },
  {
   "cell_type": "code",
   "execution_count": 10,
   "id": "3aed4102",
   "metadata": {},
   "outputs": [],
   "source": [
    "# Needed to properly visualize graphs\n",
    "%load_ext gvmagic"
   ]
  },
  {
   "cell_type": "code",
   "execution_count": 11,
   "id": "90922efd",
   "metadata": {},
   "outputs": [
    {
     "name": "stdout",
     "output_type": "stream",
     "text": [
      "['GCCAAATT', 'CCAAATAA', 'CAAATAGG', 'AAATAGCC', 'TAGCAATT', 'AGCAATGG', 'GCAATGCC', 'CAATGCGG', 'AATGCGCC', 'ATGCGCAA', 'CGCAGGAA', 'GCAGGATT', 'GGATAACC', 'TAACAACC', 'CAACTTAA', 'AACTTATT', 'ACTTATGG', 'CTTATGTT', 'TTATGTAA', 'TATGTACC', 'ATGTACTT', 'TGTACTAA', 'GTACTACC', 'TACTACAA', 'ACTACATT', 'CTACATGG', 'CATGTTGG', 'TTGTTTCC', 'GTTTCTCC', 'TTTCTCGG', 'TTCTCGTT', 'TCTCGTGG', 'CGCCAATT', 'GCCAATGG', 'CAATGTCC', 'AATGTCGG', 'ATGTCGAA', 'TGTCGAGG', 'GTCGAGAA', 'TCGAGAGG', 'AGATTTGG', 'GATTTGTT', 'ATTTGTGG', 'TTTGTGCC', 'TTGTGCTT', 'TGTGCTAA', 'GTGCTATT', 'TGCTATCC', 'GCTATCGG', 'CTATCGCC', 'GCAACCTT', 'ACCTAAGG', 'CCTAAGAA', 'CTAAGAGG', 'TAAGAGAA', 'AAGAGAGG', 'AGAGAGAA', 'GGTTTTGG', 'GTTTTGTT', 'TTTTGTGG', 'TGTGTTAA', 'GTGTTAGG', 'TGTTAGCC', 'GTTAGCAA', 'TTAGCAGG', 'CAGTTTCC', 'AGTTTCTT', 'TTTCTTCC', 'TTCTTCAA', 'TCTTCATT', 'CTTCATGG', 'TTCATGCC', 'TCATGCAA', 'CATGCATT', 'ATGCATCC', 'TGCATCTT', 'GCATCTCC', 'CTCTTTAA', 'TCTTTACC', 'TTACAAGG', 'AGAATTAA', 'GAATTACC', 'AATTACAA', 'TACAGGAA', 'ACAGGAGG', 'GCCAAACC', 'CCAAACAA', 'CAAACACC', 'AAACACTT', 'AACACTCC', 'ACACTCGG', 'CACTCGCC', 'ACTCGCTT', 'CTCGCTGG', 'TCGCTGTT', 'CGCTGTCC', 'GCTGTCAA', 'CTGTCATT', 'TCATGGTT', 'CATGGTAA', 'ATGGTATT', 'TGGTATCC', 'GGTATCGG', 'GTATCGAA', 'TATCGACC', 'ATCGACAA', 'TCGACATT', 'CGACATAA', 'GACATATT', 'ACATATCC', 'CATATCGG', 'ATATCGCC', 'TATCGCTT', 'ATCGCTGG', 'CTGCCCGG', 'GCCCGGAA', 'CGGAGGCC', 'GGAGGCGG', 'GAGGCGCC', 'AGGCGCTT', 'GGCGCTAA', 'GCGCTATT', 'CGCTATCC', 'GCTATCGG', 'CTATCGCC', 'TATCGCTT', 'ATCGCTAA', 'TCGCTACC', 'CGCTACTT', 'TACTGGTT', 'ACTGGTGG', 'GGTGCCGG', 'GCCCTTCC', 'CCCTTCGG', 'CCTTCGAA', 'CTTCGATT', 'TTCGATGG', 'TCGATGCC', 'ATGCAATT', 'TGCAATGG', 'GCAATGTT', 'TTCATGAA', 'TCATGAGG', 'CATGAGCC', 'AAAAAAGG', 'AAAAAGTT', 'AGTGGGAA', 'GTGGGAGG', 'TGGGAGTT', 'GGGAGTAA', 'GGAGTATT', 'GTATGGTT', 'TATGGTGG', 'ATGGTGCC', 'TGGTGCAA', 'GGTGCACC', 'GTGCACAA', 'TGCACATT', 'ACATCCGG', 'CATCCGCC', 'ATCCGCTT', 'TCCGCTAA', 'CCGCTATT', 'CGCTATCC', 'GCTATCGG', 'CTATCGCC', 'CAAACCGG', 'AAACCGAA', 'AACCGACC', 'ACCGACTT', 'CCGACTGG', 'CGACTGTT', 'GACTGTCC', 'TGTCGGAA', 'GTCGGACC', 'TCGGACTT', 'CGGACTCC', 'CTCTTTCC', 'TCTTTCAA', 'CTTTCATT', 'AATAGCAAA', 'TGCGCAGGG', 'CAGGATAAA', 'GATAACAAA', 'AACAACTTT', 'TACATGTTT', 'TGTTTCTTT', 'GTGCCCGGG', 'TGCCCGCCC', 'CCCGCCAAA', 'CCAATGTTT', 'CGAGAGAAA', 'TCGCAACCC', 'CAACCTAAA', 'TTTGTGTTT', 'CTTTACAAA', 'TACAAGAAA', 'CAAGAATTT', 'ATTACAGGG', 'CAGGAGCCC', 'TGTCATGGG', 'CCCGGAGGG', 'GCTACTGGG', 'CTGGTGCCC', 'CCGCCCTTT', 'CGATGCAAA', 'GAGTATGGG', 'GCACATCCC', 'TATCGCAAA', 'CGCAAACCC', 'ACTGTCGGG', 'TACGCCAAAA', 'ATGTTGTTTT', 'CTCGTGCCCC', 'GAGAGATTTT', 'TATCGCAAAA', 'AGAGAAGGGGG', 'AAGGGGTTTTT', 'TAGCAGTTTT', 'CATCTCTTTT', 'GGAGCCAAAA', 'TCGCTGCCCC', 'GTGCCGCCCC', 'AAAAGTGGGG', 'GGACTCTTTT', 'ATGAGCAAAAAAAA']\n"
     ]
    }
   ],
   "source": [
    "# Helper function to visualize de Bruijn graphs\n",
    "node_func=[]\n",
    "edge2 = collections.defaultdict(list)\n",
    "edgesss = []\n",
    "for each in range(0,len(complete)-1):\n",
    "    edgesss.append((complete[each],complete[each+1]))\n",
    "#     edge2[complete[each]].append(complete[each+1])\n",
    "    node_func.append(str(complete[each]+complete[each][-1]))\n",
    "\n",
    "# edges_bruijn = edgesss\n",
    "# nodes_bruijn = node_func\n",
    "# print(get_first(node_func))\n",
    "# print (*(sorted([key + ' -> ' + ','.join(sorted([v for v in value]))\n",
    "#                  for key, value in edge2.items()])),sep ='\\n')\n",
    "# print(len(edges_bruijn))\n",
    "# print(edges_bruijn)\n",
    "# print(len(node_func))\n",
    "# for i in complete\n",
    "# print(edges_bruijn)  \n",
    "# print(edgesss)\n",
    "# %dotstr utils.viz_debruijn(nod,edg)\n",
    "                    \n",
    "# %dotstr utils.viz_debruijn(nodes_bruijn, edges_bruijn)"
   ]
  },
  {
   "cell_type": "code",
   "execution_count": 12,
   "id": "d17adf35",
   "metadata": {},
   "outputs": [],
   "source": [
    "# Main assembly algorithm\n",
    "\n",
    "def assemble_sequence(nodes, edges):\n",
    "    assembled_sequence = seq\n",
    "    # Your code here\n",
    "    return assembled_sequence"
   ]
  },
  {
   "cell_type": "code",
   "execution_count": 13,
   "id": "3a28b8f3",
   "metadata": {},
   "outputs": [
    {
     "ename": "NameError",
     "evalue": "name 'nod' is not defined",
     "output_type": "error",
     "traceback": [
      "\u001b[1;31m---------------------------------------------------------------------------\u001b[0m",
      "\u001b[1;31mNameError\u001b[0m                                 Traceback (most recent call last)",
      "Input \u001b[1;32mIn [13]\u001b[0m, in \u001b[0;36m<cell line: 3>\u001b[1;34m()\u001b[0m\n\u001b[0;32m      1\u001b[0m \u001b[38;5;66;03m# Output assembled sequence\u001b[39;00m\n\u001b[1;32m----> 3\u001b[0m assmebled_seq \u001b[38;5;241m=\u001b[39m assemble_sequence(\u001b[43mnod\u001b[49m, edg)\n\u001b[0;32m      4\u001b[0m \u001b[38;5;28mprint\u001b[39m(assmebled_seq)\n",
      "\u001b[1;31mNameError\u001b[0m: name 'nod' is not defined"
     ]
    }
   ],
   "source": [
    "# Output assembled sequence\n",
    "\n",
    "assmebled_seq = assemble_sequence(nod, edg)\n",
    "print(assmebled_seq)"
   ]
  },
  {
   "cell_type": "markdown",
   "id": "1a19b6bb",
   "metadata": {},
   "source": [
    "## Question 2 - Sequencing SARS-CoV-2 virus"
   ]
  },
  {
   "cell_type": "markdown",
   "id": "d1e34a16",
   "metadata": {},
   "source": [
    "Let's move on from TeleTubbies to real-world organisms. Let's start small- with a variant of the SARS-CoV-2 virus. You're given reads from <i>actual</i> genome sequencing runs in the SARS-CoV2.fastq file provided.\n",
    "\n",
    "Repeat Question 1.3 on this data. You can re-use your implementation and simply run it on the new data. Print out your reconstructed sequence to a file \"output.txt\". For this part, we will still assume that all the reads are error-free. Set $k=25$."
   ]
  },
  {
   "cell_type": "code",
   "execution_count": null,
   "id": "3b0467a2",
   "metadata": {},
   "outputs": [],
   "source": [
    "# Read sequence reads\n",
    "sequence_reads_covid, qualities_covid = utils.read_fastq('SARS-CoV2.fastq')"
   ]
  },
  {
   "cell_type": "code",
   "execution_count": null,
   "id": "499f6e13",
   "metadata": {},
   "outputs": [],
   "source": [
    "# Read reads into graph\n",
    "graph = build_graph(sequence_reads_covid)"
   ]
  },
  {
   "cell_type": "code",
   "execution_count": null,
   "id": "8d566d32",
   "metadata": {},
   "outputs": [],
   "source": [
    "# Call main assembly algorithm\n",
    "assmebled_covid_seq = EulerCycleSolve1(graph)"
   ]
  },
  {
   "cell_type": "code",
   "execution_count": null,
   "id": "2f90f355",
   "metadata": {},
   "outputs": [],
   "source": [
    "# Write assembled sequence to file\n",
    "\n",
    "assmebled_seq = assembledSequenceMaker(assmebled_covid_seq) # Use your assembled genome\n",
    "with open(\"covid_overlap.txt\", \"w\") as f:\n",
    "    f.write(assmebled_seq)"
   ]
  },
  {
   "cell_type": "markdown",
   "id": "ebdc58b9",
   "metadata": {},
   "source": [
    "# Question 3- Error-Aware Assembly (Extra Credit)"
   ]
  },
  {
   "cell_type": "markdown",
   "id": "d9412818",
   "metadata": {},
   "source": [
    "In the parts above, we assumed error-free reads while assembling $k$-mers. As much as we'd like that, actual reads can (and do) have errors, captured by their Phred scores. For this question, you're given raw, actual reads from sequencing runs (download reads here: https://sra-pub-sars-cov2.s3.amazonaws.com/sra-src/SRR11528307/ABS2-LN-R1_cleaned_paired.fastq.gz).  Given these reads and their Phred33 scores, can you assemble the genome?\n",
    "\n",
    "<b>Print out your assembled sequence, along with a brief explanation of how your algorithm works</b>\n",
    "\n",
    "This is an open-ended question. You are free to use any approach to deal with the issue. Make sure you provide your code, along with any assumptions you may have, in the cells below."
   ]
  },
  {
   "cell_type": "code",
   "execution_count": null,
   "id": "3d1856dd",
   "metadata": {},
   "outputs": [],
   "source": []
  },
  {
   "cell_type": "code",
   "execution_count": null,
   "id": "45b79a5d",
   "metadata": {},
   "outputs": [],
   "source": []
  },
  {
   "cell_type": "code",
   "execution_count": null,
   "id": "3d5fd2fa",
   "metadata": {},
   "outputs": [],
   "source": []
  }
 ],
 "metadata": {
  "kernelspec": {
   "display_name": "Python 3 (ipykernel)",
   "language": "python",
   "name": "python3"
  },
  "language_info": {
   "codemirror_mode": {
    "name": "ipython",
    "version": 3
   },
   "file_extension": ".py",
   "mimetype": "text/x-python",
   "name": "python",
   "nbconvert_exporter": "python",
   "pygments_lexer": "ipython3",
   "version": "3.9.13"
  }
 },
 "nbformat": 4,
 "nbformat_minor": 5
}
